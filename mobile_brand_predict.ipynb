{
  "nbformat": 4,
  "nbformat_minor": 0,
  "metadata": {
    "colab": {
      "name": "mobile_brand_predict.ipynb",
      "provenance": [],
      "collapsed_sections": []
    },
    "kernelspec": {
      "name": "python3",
      "display_name": "Python 3"
    },
    "accelerator": "GPU"
  },
  "cells": [
    {
      "cell_type": "code",
      "metadata": {
        "id": "y2NCG1lT9nvx",
        "colab_type": "code",
        "colab": {}
      },
      "source": [
        "from tensorflow.keras.layers import Input, Lambda, Dense, Flatten\n",
        "from tensorflow.keras.models import Model, Sequential\n",
        "from tensorflow.keras.applications.resnet50 import ResNet50\n",
        "from tensorflow.keras.applications.vgg16 import VGG16\n",
        "from tensorflow.keras.applications.vgg16 import preprocess_input\n",
        "from tensorflow.keras.preprocessing import image\n",
        "from tensorflow.keras.preprocessing.image import ImageDataGenerator,load_img\n",
        "import numpy as np\n",
        "import pandas as pd\n",
        "from glob import  glob\n",
        "import matplotlib.pyplot as plt\n",
        "\n"
      ],
      "execution_count": 59,
      "outputs": []
    },
    {
      "cell_type": "code",
      "metadata": {
        "id": "6oHVclwkAJn-",
        "colab_type": "code",
        "colab": {
          "base_uri": "https://localhost:8080/",
          "height": 1000
        },
        "outputId": "c9763880-0914-40f6-e103-8f496a093b28"
      },
      "source": [
        "!unzip train.zip "
      ],
      "execution_count": 2,
      "outputs": [
        {
          "output_type": "stream",
          "text": [
            "Archive:  train.zip\n",
            "   creating: train/iphone/\n",
            "  inflating: train/iphone/download (1).jpg  \n",
            "  inflating: train/iphone/download (10).jpg  \n",
            "  inflating: train/iphone/download (11).jpg  \n",
            "  inflating: train/iphone/download (12).jpg  \n",
            "  inflating: train/iphone/download (13).jpg  \n",
            "  inflating: train/iphone/download (14).jpg  \n",
            "  inflating: train/iphone/download (15).jpg  \n",
            "  inflating: train/iphone/download (2).jpg  \n",
            "  inflating: train/iphone/download (3).jpg  \n",
            "  inflating: train/iphone/download (4).jpg  \n",
            "  inflating: train/iphone/download (5).jpg  \n",
            "  inflating: train/iphone/download (6).jpg  \n",
            "  inflating: train/iphone/download (7).jpg  \n",
            "  inflating: train/iphone/download (8).jpg  \n",
            "  inflating: train/iphone/download (9).jpg  \n",
            "  inflating: train/iphone/download.jpg  \n",
            "  inflating: train/iphone/images (1).jpg  \n",
            "  inflating: train/iphone/images (10).jpg  \n",
            "  inflating: train/iphone/images (11).jpg  \n",
            "  inflating: train/iphone/images (12).jpg  \n",
            "  inflating: train/iphone/images (13).jpg  \n",
            "  inflating: train/iphone/images (14).jpg  \n",
            "  inflating: train/iphone/images (15).jpg  \n",
            "  inflating: train/iphone/images (16).jpg  \n",
            "  inflating: train/iphone/images (17).jpg  \n",
            "  inflating: train/iphone/images (18).jpg  \n",
            "  inflating: train/iphone/images (19).jpg  \n",
            "  inflating: train/iphone/images (2).jpg  \n",
            "  inflating: train/iphone/images (20).jpg  \n",
            "  inflating: train/iphone/images (21).jpg  \n",
            "  inflating: train/iphone/images (22).jpg  \n",
            "  inflating: train/iphone/images (23).jpg  \n",
            "  inflating: train/iphone/images (24).jpg  \n",
            "  inflating: train/iphone/images (3).jpg  \n",
            "  inflating: train/iphone/images (4).jpg  \n",
            "  inflating: train/iphone/images (5).jpg  \n",
            "  inflating: train/iphone/images (6).jpg  \n",
            "  inflating: train/iphone/images (7).jpg  \n",
            "  inflating: train/iphone/images (8).jpg  \n",
            "  inflating: train/iphone/images (9).jpg  \n",
            "   creating: train/one plus/\n",
            "  inflating: train/one plus/download (1).jpg  \n",
            "  inflating: train/one plus/download (12).jpg  \n",
            "  inflating: train/one plus/download.jpg  \n",
            "  inflating: train/one plus/images (1).jpg  \n",
            "  inflating: train/one plus/images (10).jpg  \n",
            "  inflating: train/one plus/images (11).jpg  \n",
            "  inflating: train/one plus/images (12).jpg  \n",
            "  inflating: train/one plus/images (13).jpg  \n",
            "  inflating: train/one plus/images (14).jpg  \n",
            "  inflating: train/one plus/images (15).jpg  \n",
            " extracting: train/one plus/images (16).jpg  \n",
            "  inflating: train/one plus/images (17).jpg  \n",
            "  inflating: train/one plus/images (18).jpg  \n",
            "  inflating: train/one plus/images (19).jpg  \n",
            "  inflating: train/one plus/images (2).jpg  \n",
            "  inflating: train/one plus/images (20).jpg  \n",
            "  inflating: train/one plus/images (21).jpg  \n",
            "  inflating: train/one plus/images (22).jpg  \n",
            "  inflating: train/one plus/images (23).jpg  \n",
            "  inflating: train/one plus/images (24).jpg  \n",
            "  inflating: train/one plus/images (25).jpg  \n",
            "  inflating: train/one plus/images (26).jpg  \n",
            "  inflating: train/one plus/images (27).jpg  \n",
            "  inflating: train/one plus/images (28).jpg  \n",
            "  inflating: train/one plus/images (29).jpg  \n",
            "  inflating: train/one plus/images (3).jpg  \n",
            "  inflating: train/one plus/images (30).jpg  \n",
            "  inflating: train/one plus/images (31).jpg  \n",
            "  inflating: train/one plus/images (32).jpg  \n",
            "  inflating: train/one plus/images (4).jpg  \n",
            "  inflating: train/one plus/images (5).jpg  \n",
            "  inflating: train/one plus/images (6).jpg  \n",
            "  inflating: train/one plus/images (7).jpg  \n",
            "  inflating: train/one plus/images (8).jpg  \n",
            "  inflating: train/one plus/images (9).jpg  \n",
            "   creating: train/oppo/\n",
            "  inflating: train/oppo/download (1).jpg  \n",
            "  inflating: train/oppo/download (2).jpg  \n",
            "  inflating: train/oppo/download (3).jpg  \n",
            "  inflating: train/oppo/download (4).jpg  \n",
            "  inflating: train/oppo/download (5).jpg  \n",
            "  inflating: train/oppo/download (6).jpg  \n",
            "  inflating: train/oppo/download (7).jpg  \n",
            "  inflating: train/oppo/download (8).jpg  \n",
            "  inflating: train/oppo/download.jpg  \n",
            "  inflating: train/oppo/images (1).jpg  \n",
            "  inflating: train/oppo/images (10).jpg  \n",
            "  inflating: train/oppo/images (11).jpg  \n",
            "  inflating: train/oppo/images (12).jpg  \n",
            "  inflating: train/oppo/images (13).jpg  \n",
            "  inflating: train/oppo/images (14).jpg  \n",
            "  inflating: train/oppo/images (15).jpg  \n",
            "  inflating: train/oppo/images (16).jpg  \n",
            "  inflating: train/oppo/images (17).jpg  \n",
            "  inflating: train/oppo/images (18).jpg  \n",
            "  inflating: train/oppo/images (19).jpg  \n",
            "  inflating: train/oppo/images (2).jpg  \n",
            "  inflating: train/oppo/images (20).jpg  \n",
            "  inflating: train/oppo/images (21).jpg  \n",
            "  inflating: train/oppo/images (22).jpg  \n",
            "  inflating: train/oppo/images (23).jpg  \n",
            "  inflating: train/oppo/images (24).jpg  \n",
            "  inflating: train/oppo/images (25).jpg  \n",
            "  inflating: train/oppo/images (3).jpg  \n",
            " extracting: train/oppo/images (4).jpg  \n",
            "  inflating: train/oppo/images (5).jpg  \n",
            "  inflating: train/oppo/images (6).jpg  \n",
            "  inflating: train/oppo/images (7).jpg  \n",
            "  inflating: train/oppo/images (8).jpg  \n",
            "  inflating: train/oppo/images (9).jpg  \n",
            "   creating: train/samsung/\n",
            "  inflating: train/samsung/download (1).jpg  \n",
            "  inflating: train/samsung/download (16).jpg  \n",
            "  inflating: train/samsung/download.jpg  \n",
            "  inflating: train/samsung/images (1).jpg  \n",
            "  inflating: train/samsung/images (10).jpg  \n",
            "  inflating: train/samsung/images (11).jpg  \n",
            "  inflating: train/samsung/images (12).jpg  \n",
            "  inflating: train/samsung/images (13).jpg  \n",
            "  inflating: train/samsung/images (14).jpg  \n",
            "  inflating: train/samsung/images (15).jpg  \n",
            "  inflating: train/samsung/images (16).jpg  \n",
            "  inflating: train/samsung/images (17).jpg  \n",
            "  inflating: train/samsung/images (18).jpg  \n",
            "  inflating: train/samsung/images (19).jpg  \n",
            "  inflating: train/samsung/images (2).jpg  \n",
            "  inflating: train/samsung/images (20).jpg  \n",
            "  inflating: train/samsung/images (21).jpg  \n",
            "  inflating: train/samsung/images (22).jpg  \n",
            "  inflating: train/samsung/images (23).jpg  \n",
            "  inflating: train/samsung/images (24).jpg  \n",
            "  inflating: train/samsung/images (25).jpg  \n",
            "  inflating: train/samsung/images (26).jpg  \n",
            "  inflating: train/samsung/images (27).jpg  \n",
            "  inflating: train/samsung/images (28).jpg  \n",
            "  inflating: train/samsung/images (29).jpg  \n",
            "  inflating: train/samsung/images (3).jpg  \n",
            "  inflating: train/samsung/images (30).jpg  \n",
            "  inflating: train/samsung/images (31).jpg  \n",
            "  inflating: train/samsung/images (32).jpg  \n",
            "  inflating: train/samsung/images (33).jpg  \n",
            "  inflating: train/samsung/images (4).jpg  \n",
            "  inflating: train/samsung/images (5).jpg  \n",
            "  inflating: train/samsung/images (6).jpg  \n",
            "  inflating: train/samsung/images (7).jpg  \n",
            "  inflating: train/samsung/images (8).jpg  \n",
            "  inflating: train/samsung/images (9).jpg  \n",
            "   creating: train/vivo/\n",
            "  inflating: train/vivo/download (1).jpg  \n",
            "  inflating: train/vivo/download (2).jpg  \n",
            "  inflating: train/vivo/download (3).jpg  \n",
            "  inflating: train/vivo/download.jpg  \n",
            "  inflating: train/vivo/images (1).jpg  \n",
            "  inflating: train/vivo/images (10).jpg  \n",
            "  inflating: train/vivo/images (11).jpg  \n",
            "  inflating: train/vivo/images (12).jpg  \n",
            "  inflating: train/vivo/images (13).jpg  \n",
            "  inflating: train/vivo/images (14).jpg  \n",
            "  inflating: train/vivo/images (15).jpg  \n",
            "  inflating: train/vivo/images (16).jpg  \n",
            "  inflating: train/vivo/images (17).jpg  \n",
            "  inflating: train/vivo/images (18).jpg  \n",
            "  inflating: train/vivo/images (19).jpg  \n",
            "  inflating: train/vivo/images (2).jpg  \n",
            "  inflating: train/vivo/images (20).jpg  \n",
            "  inflating: train/vivo/images (21).jpg  \n",
            "  inflating: train/vivo/images (22).jpg  \n",
            "  inflating: train/vivo/images (23).jpg  \n",
            "  inflating: train/vivo/images (24).jpg  \n",
            "  inflating: train/vivo/images (25).jpg  \n",
            "  inflating: train/vivo/images (26).jpg  \n",
            "  inflating: train/vivo/images (27).jpg  \n",
            "  inflating: train/vivo/images (28).jpg  \n",
            "  inflating: train/vivo/images (29).jpg  \n",
            "  inflating: train/vivo/images (3).jpg  \n",
            "  inflating: train/vivo/images (30).jpg  \n",
            "  inflating: train/vivo/images (31).jpg  \n",
            "  inflating: train/vivo/images (32).jpg  \n",
            "  inflating: train/vivo/images (33).jpg  \n",
            "  inflating: train/vivo/images (34).jpg  \n",
            "  inflating: train/vivo/images (35).jpg  \n",
            "  inflating: train/vivo/images (4).jpg  \n",
            "  inflating: train/vivo/images (5).jpg  \n",
            "  inflating: train/vivo/images (6).jpg  \n",
            "  inflating: train/vivo/images (7).jpg  \n",
            "  inflating: train/vivo/images (8).jpg  \n",
            "  inflating: train/vivo/images (9).jpg  \n",
            "   creating: train/xiomi/\n",
            "  inflating: train/xiomi/download (1).jpg  \n",
            "  inflating: train/xiomi/download (10).jpg  \n",
            "  inflating: train/xiomi/download (11).jpg  \n",
            "  inflating: train/xiomi/download (2).jpg  \n",
            "  inflating: train/xiomi/download (3).jpg  \n",
            "  inflating: train/xiomi/download (4).jpg  \n",
            "  inflating: train/xiomi/download (5).jpg  \n",
            "  inflating: train/xiomi/download (6).jpg  \n",
            "  inflating: train/xiomi/download (7).jpg  \n",
            "  inflating: train/xiomi/download (8).jpg  \n",
            "  inflating: train/xiomi/download (9).jpg  \n",
            "  inflating: train/xiomi/download.jpg  \n",
            "  inflating: train/xiomi/images (1).jpg  \n",
            "  inflating: train/xiomi/images (10).jpg  \n",
            "  inflating: train/xiomi/images (11).jpg  \n",
            "  inflating: train/xiomi/images (12).jpg  \n",
            "  inflating: train/xiomi/images (13).jpg  \n",
            "  inflating: train/xiomi/images (14).jpg  \n",
            "  inflating: train/xiomi/images (15).jpg  \n",
            "  inflating: train/xiomi/images (16).jpg  \n",
            "  inflating: train/xiomi/images (17).jpg  \n",
            "  inflating: train/xiomi/images (18).jpg  \n",
            "  inflating: train/xiomi/images (19).jpg  \n",
            "  inflating: train/xiomi/images (2).jpg  \n",
            "  inflating: train/xiomi/images (20).jpg  \n",
            "  inflating: train/xiomi/images (21).jpg  \n",
            "  inflating: train/xiomi/images (22).jpg  \n",
            "  inflating: train/xiomi/images (23).jpg  \n",
            "  inflating: train/xiomi/images (3).jpg  \n",
            "  inflating: train/xiomi/images (4).jpg  \n",
            "  inflating: train/xiomi/images (5).jpg  \n",
            "  inflating: train/xiomi/images (6).jpg  \n",
            "  inflating: train/xiomi/images (7).jpg  \n",
            "  inflating: train/xiomi/images (8).jpg  \n",
            "  inflating: train/xiomi/images (9).jpg  \n"
          ],
          "name": "stdout"
        }
      ]
    },
    {
      "cell_type": "code",
      "metadata": {
        "id": "7Pb9_Kt-ANOs",
        "colab_type": "code",
        "colab": {
          "base_uri": "https://localhost:8080/",
          "height": 1000
        },
        "outputId": "b74ddc54-6333-4370-c104-ef6a352c3489"
      },
      "source": [
        "!unzip test.zip"
      ],
      "execution_count": 3,
      "outputs": [
        {
          "output_type": "stream",
          "text": [
            "Archive:  test.zip\n",
            "   creating: test/iphone/\n",
            "  inflating: test/iphone/images (25).jpg  \n",
            "  inflating: test/iphone/images (26).jpg  \n",
            "  inflating: test/iphone/images (27).jpg  \n",
            "  inflating: test/iphone/images (28).jpg  \n",
            "  inflating: test/iphone/images (29).jpg  \n",
            "  inflating: test/iphone/images (30).jpg  \n",
            "  inflating: test/iphone/images (31).jpg  \n",
            "  inflating: test/iphone/images (32).jpg  \n",
            "  inflating: test/iphone/images (33).jpg  \n",
            "  inflating: test/iphone/images (34).jpg  \n",
            "  inflating: test/iphone/images (35).jpg  \n",
            "  inflating: test/iphone/images (36).jpg  \n",
            "  inflating: test/iphone/images (37).jpg  \n",
            "  inflating: test/iphone/images (38).jpg  \n",
            "  inflating: test/iphone/images (39).jpg  \n",
            "  inflating: test/iphone/images (40).jpg  \n",
            "  inflating: test/iphone/images (41).jpg  \n",
            "  inflating: test/iphone/images (42).jpg  \n",
            "  inflating: test/iphone/images (43).jpg  \n",
            "  inflating: test/iphone/images (44).jpg  \n",
            "  inflating: test/iphone/images (45).jpg  \n",
            "  inflating: test/iphone/images (46).jpg  \n",
            "  inflating: test/iphone/images (47).jpg  \n",
            "  inflating: test/iphone/images (48).jpg  \n",
            "  inflating: test/iphone/images (49).jpg  \n",
            "   creating: test/one plus/\n",
            "  inflating: test/one plus/images (33).jpg  \n",
            "  inflating: test/one plus/images (34).jpg  \n",
            "  inflating: test/one plus/images (35).jpg  \n",
            "  inflating: test/one plus/images (36).jpg  \n",
            "  inflating: test/one plus/images (37).jpg  \n",
            "  inflating: test/one plus/images (38).jpg  \n",
            "  inflating: test/one plus/images (39).jpg  \n",
            "  inflating: test/one plus/images (40).jpg  \n",
            "  inflating: test/one plus/images (41).jpg  \n",
            "  inflating: test/one plus/images (42).jpg  \n",
            "  inflating: test/one plus/images (43).jpg  \n",
            "  inflating: test/one plus/images (44).jpg  \n",
            "  inflating: test/one plus/images (45).jpg  \n",
            "  inflating: test/one plus/images (46).jpg  \n",
            "  inflating: test/one plus/images (47).jpg  \n",
            "  inflating: test/one plus/images (48).jpg  \n",
            "  inflating: test/one plus/images (49).jpg  \n",
            "  inflating: test/one plus/images (50).jpg  \n",
            "  inflating: test/one plus/images (51).jpg  \n",
            "  inflating: test/one plus/images (52).jpg  \n",
            "  inflating: test/one plus/images (53).jpg  \n",
            "  inflating: test/one plus/images (54).jpg  \n",
            "  inflating: test/one plus/images (55).jpg  \n",
            "  inflating: test/one plus/images (56).jpg  \n",
            "  inflating: test/one plus/images.jpg  \n",
            "   creating: test/oppo/\n",
            "  inflating: test/oppo/images (26).jpg  \n",
            "  inflating: test/oppo/images (27).jpg  \n",
            "  inflating: test/oppo/images (28).jpg  \n",
            "  inflating: test/oppo/images (29).jpg  \n",
            "  inflating: test/oppo/images (30).jpg  \n",
            "  inflating: test/oppo/images (31).jpg  \n",
            "  inflating: test/oppo/images (32).jpg  \n",
            "  inflating: test/oppo/images (33).jpg  \n",
            "  inflating: test/oppo/images (34).jpg  \n",
            "  inflating: test/oppo/images (35).jpg  \n",
            "  inflating: test/oppo/images (36).jpg  \n",
            "  inflating: test/oppo/images (37).jpg  \n",
            "  inflating: test/oppo/images (38).jpg  \n",
            "  inflating: test/oppo/images (39).jpg  \n",
            "  inflating: test/oppo/images (40).jpg  \n",
            "  inflating: test/oppo/images (41).jpg  \n",
            "  inflating: test/oppo/images (42).jpg  \n",
            "  inflating: test/oppo/images (43).jpg  \n",
            "  inflating: test/oppo/images (44).jpg  \n",
            "  inflating: test/oppo/images (45).jpg  \n",
            "  inflating: test/oppo/images (46).jpg  \n",
            "  inflating: test/oppo/images (47).jpg  \n",
            "  inflating: test/oppo/images (48).jpg  \n",
            "  inflating: test/oppo/images (49).jpg  \n",
            "  inflating: test/oppo/images.jpg    \n",
            "   creating: test/samsung/\n",
            "  inflating: test/samsung/images (34).jpg  \n",
            "  inflating: test/samsung/images (35).jpg  \n",
            "  inflating: test/samsung/images (36).jpg  \n",
            "  inflating: test/samsung/images (37).jpg  \n",
            "  inflating: test/samsung/images (38).jpg  \n",
            "  inflating: test/samsung/images (39).jpg  \n",
            "  inflating: test/samsung/images (40).jpg  \n",
            "  inflating: test/samsung/images (41).jpg  \n",
            "  inflating: test/samsung/images (42).jpg  \n",
            "  inflating: test/samsung/images (43).jpg  \n",
            "  inflating: test/samsung/images (44).jpg  \n",
            "  inflating: test/samsung/images (45).jpg  \n",
            "  inflating: test/samsung/images (46).jpg  \n",
            "  inflating: test/samsung/images (47).jpg  \n",
            "  inflating: test/samsung/images (48).jpg  \n",
            "  inflating: test/samsung/images (49).jpg  \n",
            "  inflating: test/samsung/images (50).jpg  \n",
            "  inflating: test/samsung/images (51).jpg  \n",
            "  inflating: test/samsung/images (52).jpg  \n",
            "  inflating: test/samsung/images (53).jpg  \n",
            "  inflating: test/samsung/images (54).jpg  \n",
            "  inflating: test/samsung/images (55).jpg  \n",
            "  inflating: test/samsung/images (56).jpg  \n",
            "  inflating: test/samsung/images (57).jpg  \n",
            "  inflating: test/samsung/images.jpg  \n",
            "   creating: test/vivo/\n",
            "  inflating: test/vivo/images (36).jpg  \n",
            "  inflating: test/vivo/images (37).jpg  \n",
            "  inflating: test/vivo/images (38).jpg  \n",
            "  inflating: test/vivo/images (39).jpg  \n",
            "  inflating: test/vivo/images (40).jpg  \n",
            "  inflating: test/vivo/images (41).jpg  \n",
            "  inflating: test/vivo/images (42).jpg  \n",
            "  inflating: test/vivo/images (43).jpg  \n",
            "  inflating: test/vivo/images (44).jpg  \n",
            "  inflating: test/vivo/images (45).jpg  \n",
            "  inflating: test/vivo/images (46).jpg  \n",
            "  inflating: test/vivo/images (47).jpg  \n",
            "  inflating: test/vivo/images (48).jpg  \n",
            "  inflating: test/vivo/images (49).jpg  \n",
            "  inflating: test/vivo/images (50).jpg  \n",
            "  inflating: test/vivo/images (51).jpg  \n",
            "  inflating: test/vivo/images (52).jpg  \n",
            "  inflating: test/vivo/images (53).jpg  \n",
            "  inflating: test/vivo/images (54).jpg  \n",
            "  inflating: test/vivo/images (55).jpg  \n",
            "  inflating: test/vivo/images (56).jpg  \n",
            "  inflating: test/vivo/images (57).jpg  \n",
            "  inflating: test/vivo/images (58).jpg  \n",
            "  inflating: test/vivo/images (59).jpg  \n",
            "  inflating: test/vivo/images.jpg    \n",
            "   creating: test/xiomi/\n",
            "  inflating: test/xiomi/images (24).jpg  \n",
            "  inflating: test/xiomi/images (25).jpg  \n",
            "  inflating: test/xiomi/images (26).jpg  \n",
            "  inflating: test/xiomi/images (27).jpg  \n",
            "  inflating: test/xiomi/images (28).jpg  \n",
            "  inflating: test/xiomi/images (29).jpg  \n",
            "  inflating: test/xiomi/images (30).jpg  \n",
            "  inflating: test/xiomi/images (31).jpg  \n",
            "  inflating: test/xiomi/images (32).jpg  \n",
            "  inflating: test/xiomi/images (33).jpg  \n",
            "  inflating: test/xiomi/images (34).jpg  \n",
            "  inflating: test/xiomi/images (35).jpg  \n",
            "  inflating: test/xiomi/images (36).jpg  \n",
            "  inflating: test/xiomi/images (37).jpg  \n",
            "  inflating: test/xiomi/images (38).jpg  \n",
            "  inflating: test/xiomi/images (39).jpg  \n",
            "  inflating: test/xiomi/images (40).jpg  \n",
            "  inflating: test/xiomi/images (41).jpg  \n",
            "  inflating: test/xiomi/images (42).jpg  \n",
            "  inflating: test/xiomi/images (43).jpg  \n",
            "  inflating: test/xiomi/images (44).jpg  \n",
            "  inflating: test/xiomi/images (45).jpg  \n",
            "  inflating: test/xiomi/images (50).jpg  \n",
            "  inflating: test/xiomi/images.jpg   \n",
            "  inflating: test/xiomi/images.png   \n"
          ],
          "name": "stdout"
        }
      ]
    },
    {
      "cell_type": "code",
      "metadata": {
        "id": "SzxfSvfNBO0D",
        "colab_type": "code",
        "colab": {}
      },
      "source": [
        "!rm train.zip\n",
        "!rm test.zip"
      ],
      "execution_count": 4,
      "outputs": []
    },
    {
      "cell_type": "code",
      "metadata": {
        "id": "dMeYVFiMBX-E",
        "colab_type": "code",
        "colab": {}
      },
      "source": [
        "# resize the images\n",
        "image_size=[250,250]\n",
        "\n",
        "train_path='/content/train'\n",
        "test_path='/content/test'\n"
      ],
      "execution_count": 5,
      "outputs": []
    },
    {
      "cell_type": "code",
      "metadata": {
        "id": "plGgxcifUj-P",
        "colab_type": "code",
        "colab": {
          "base_uri": "https://localhost:8080/",
          "height": 35
        },
        "outputId": "d2028ff9-cbe9-4b44-cf9a-2e75e637558d"
      },
      "source": [
        ""
      ],
      "execution_count": 7,
      "outputs": [
        {
          "output_type": "execute_result",
          "data": {
            "application/vnd.google.colaboratory.intrinsic": {
              "type": "string"
            },
            "text/plain": [
              "'/'"
            ]
          },
          "metadata": {
            "tags": []
          },
          "execution_count": 7
        }
      ]
    },
    {
      "cell_type": "code",
      "metadata": {
        "id": "yVtMi-fUBir_",
        "colab_type": "code",
        "colab": {
          "base_uri": "https://localhost:8080/",
          "height": 71
        },
        "outputId": "aea5940b-8bf8-4822-9780-defb377f85fc"
      },
      "source": [
        "# import resnet library as shown below  and add preprocessing layer of the front of resnet50\n",
        "# here we will be using image net wieghts\n",
        "\n",
        "# resnet=ResNet50(input_shape=image_size + [3], weights='imagenet', include_top=False)\n",
        "\n",
        "vgg16=VGG16(input_shape=image_size + [3], weights='imagenet', include_top=False)"
      ],
      "execution_count": 8,
      "outputs": [
        {
          "output_type": "stream",
          "text": [
            "Downloading data from https://storage.googleapis.com/tensorflow/keras-applications/vgg16/vgg16_weights_tf_dim_ordering_tf_kernels_notop.h5\n",
            "58892288/58889256 [==============================] - 1s 0us/step\n"
          ],
          "name": "stdout"
        }
      ]
    },
    {
      "cell_type": "code",
      "metadata": {
        "id": "rxnjPftXBkS0",
        "colab_type": "code",
        "colab": {
          "base_uri": "https://localhost:8080/",
          "height": 799
        },
        "outputId": "b3d22958-292c-46f5-ca98-15a2bbf7e7ed"
      },
      "source": [
        "# summary of resnet\n",
        "# resnet.summary()\n",
        "\n",
        "# summary og vvg16\n",
        "vgg16.summary()"
      ],
      "execution_count": 9,
      "outputs": [
        {
          "output_type": "stream",
          "text": [
            "Model: \"vgg16\"\n",
            "_________________________________________________________________\n",
            "Layer (type)                 Output Shape              Param #   \n",
            "=================================================================\n",
            "input_1 (InputLayer)         [(None, 250, 250, 3)]     0         \n",
            "_________________________________________________________________\n",
            "block1_conv1 (Conv2D)        (None, 250, 250, 64)      1792      \n",
            "_________________________________________________________________\n",
            "block1_conv2 (Conv2D)        (None, 250, 250, 64)      36928     \n",
            "_________________________________________________________________\n",
            "block1_pool (MaxPooling2D)   (None, 125, 125, 64)      0         \n",
            "_________________________________________________________________\n",
            "block2_conv1 (Conv2D)        (None, 125, 125, 128)     73856     \n",
            "_________________________________________________________________\n",
            "block2_conv2 (Conv2D)        (None, 125, 125, 128)     147584    \n",
            "_________________________________________________________________\n",
            "block2_pool (MaxPooling2D)   (None, 62, 62, 128)       0         \n",
            "_________________________________________________________________\n",
            "block3_conv1 (Conv2D)        (None, 62, 62, 256)       295168    \n",
            "_________________________________________________________________\n",
            "block3_conv2 (Conv2D)        (None, 62, 62, 256)       590080    \n",
            "_________________________________________________________________\n",
            "block3_conv3 (Conv2D)        (None, 62, 62, 256)       590080    \n",
            "_________________________________________________________________\n",
            "block3_pool (MaxPooling2D)   (None, 31, 31, 256)       0         \n",
            "_________________________________________________________________\n",
            "block4_conv1 (Conv2D)        (None, 31, 31, 512)       1180160   \n",
            "_________________________________________________________________\n",
            "block4_conv2 (Conv2D)        (None, 31, 31, 512)       2359808   \n",
            "_________________________________________________________________\n",
            "block4_conv3 (Conv2D)        (None, 31, 31, 512)       2359808   \n",
            "_________________________________________________________________\n",
            "block4_pool (MaxPooling2D)   (None, 15, 15, 512)       0         \n",
            "_________________________________________________________________\n",
            "block5_conv1 (Conv2D)        (None, 15, 15, 512)       2359808   \n",
            "_________________________________________________________________\n",
            "block5_conv2 (Conv2D)        (None, 15, 15, 512)       2359808   \n",
            "_________________________________________________________________\n",
            "block5_conv3 (Conv2D)        (None, 15, 15, 512)       2359808   \n",
            "_________________________________________________________________\n",
            "block5_pool (MaxPooling2D)   (None, 7, 7, 512)         0         \n",
            "=================================================================\n",
            "Total params: 14,714,688\n",
            "Trainable params: 14,714,688\n",
            "Non-trainable params: 0\n",
            "_________________________________________________________________\n"
          ],
          "name": "stdout"
        }
      ]
    },
    {
      "cell_type": "code",
      "metadata": {
        "id": "6saGjMLBBmea",
        "colab_type": "code",
        "colab": {}
      },
      "source": [
        "# here we don't existing the train weights for resnet\n",
        "# for layer in resnet.layers:\n",
        "  # layer.trainable=False\n",
        "\n",
        "# here we don't existing the train weights for vgg16\n",
        "\n",
        "for layer in vgg16.layers:\n",
        "  layer.trainable=False"
      ],
      "execution_count": 10,
      "outputs": []
    },
    {
      "cell_type": "code",
      "metadata": {
        "id": "G1vrZEG1DSGy",
        "colab_type": "code",
        "colab": {}
      },
      "source": [
        "# usefulfor getting the how amny folder\n",
        "folders=glob('/content/train/*')"
      ],
      "execution_count": 11,
      "outputs": []
    },
    {
      "cell_type": "code",
      "metadata": {
        "id": "B5Ya-DRpEQ9T",
        "colab_type": "code",
        "colab": {
          "base_uri": "https://localhost:8080/",
          "height": 136
        },
        "outputId": "83656aee-b7a1-421f-8976-e974830ba89a"
      },
      "source": [
        "folders, len(folders)"
      ],
      "execution_count": 12,
      "outputs": [
        {
          "output_type": "execute_result",
          "data": {
            "text/plain": [
              "(['/content/train/xiomi',\n",
              "  '/content/train/vivo',\n",
              "  '/content/train/one plus',\n",
              "  '/content/train/samsung',\n",
              "  '/content/train/iphone',\n",
              "  '/content/train/oppo'],\n",
              " 6)"
            ]
          },
          "metadata": {
            "tags": []
          },
          "execution_count": 12
        }
      ]
    },
    {
      "cell_type": "code",
      "metadata": {
        "id": "a_Rto5elESPt",
        "colab_type": "code",
        "colab": {}
      },
      "source": [
        "# # here i am doing flatten the resnet output and adding more layers for resnet\n",
        "# x=Flatten()(resnet.output)\n",
        "# x=Dense(1024,activation='relu')(x)\n",
        "# x=Dense(512, activation='relu')(x)\n",
        "# x=Dense(256,activation='relu')(x)\n",
        "\n",
        "x=Flatten()(vgg16.output)\n",
        "x=Dense(1024,activation='relu')(x)\n",
        "x=Dense(512, activation='relu')(x)\n",
        "x=Dense(256,activation='relu')(x)\n"
      ],
      "execution_count": 13,
      "outputs": []
    },
    {
      "cell_type": "code",
      "metadata": {
        "id": "uI9iHZJMFXIh",
        "colab_type": "code",
        "colab": {}
      },
      "source": [
        "#classes which we have and creating the model for resnet\n",
        "# classes=6\n",
        "# prediction=Dense(classes, activation='softmax')(x)\n",
        "\n",
        "# # create a model \n",
        "# model=Model(inputs=resnet.input, outputs=prediction)"
      ],
      "execution_count": 14,
      "outputs": []
    },
    {
      "cell_type": "code",
      "metadata": {
        "id": "G7kym-eNQsLs",
        "colab_type": "code",
        "colab": {}
      },
      "source": [
        "# classes which we have and creating the model for vgg16\n",
        "classes=6\n",
        "prediction=Dense(classes, activation='softmax')(x)\n",
        "\n",
        "# create a model \n",
        "model=Model(inputs=vgg16.input, outputs=prediction)"
      ],
      "execution_count": 15,
      "outputs": []
    },
    {
      "cell_type": "code",
      "metadata": {
        "id": "R1h6Sw_5GBZo",
        "colab_type": "code",
        "colab": {
          "base_uri": "https://localhost:8080/",
          "height": 1000
        },
        "outputId": "27f08653-b753-4986-d61a-d365ba8a9945"
      },
      "source": [
        "# model summary for resnet \n",
        "model.summary()"
      ],
      "execution_count": null,
      "outputs": [
        {
          "output_type": "stream",
          "text": [
            "Model: \"model\"\n",
            "__________________________________________________________________________________________________\n",
            "Layer (type)                    Output Shape         Param #     Connected to                     \n",
            "==================================================================================================\n",
            "input_1 (InputLayer)            [(None, 250, 250, 3) 0                                            \n",
            "__________________________________________________________________________________________________\n",
            "conv1_pad (ZeroPadding2D)       (None, 256, 256, 3)  0           input_1[0][0]                    \n",
            "__________________________________________________________________________________________________\n",
            "conv1_conv (Conv2D)             (None, 125, 125, 64) 9472        conv1_pad[0][0]                  \n",
            "__________________________________________________________________________________________________\n",
            "conv1_bn (BatchNormalization)   (None, 125, 125, 64) 256         conv1_conv[0][0]                 \n",
            "__________________________________________________________________________________________________\n",
            "conv1_relu (Activation)         (None, 125, 125, 64) 0           conv1_bn[0][0]                   \n",
            "__________________________________________________________________________________________________\n",
            "pool1_pad (ZeroPadding2D)       (None, 127, 127, 64) 0           conv1_relu[0][0]                 \n",
            "__________________________________________________________________________________________________\n",
            "pool1_pool (MaxPooling2D)       (None, 63, 63, 64)   0           pool1_pad[0][0]                  \n",
            "__________________________________________________________________________________________________\n",
            "conv2_block1_1_conv (Conv2D)    (None, 63, 63, 64)   4160        pool1_pool[0][0]                 \n",
            "__________________________________________________________________________________________________\n",
            "conv2_block1_1_bn (BatchNormali (None, 63, 63, 64)   256         conv2_block1_1_conv[0][0]        \n",
            "__________________________________________________________________________________________________\n",
            "conv2_block1_1_relu (Activation (None, 63, 63, 64)   0           conv2_block1_1_bn[0][0]          \n",
            "__________________________________________________________________________________________________\n",
            "conv2_block1_2_conv (Conv2D)    (None, 63, 63, 64)   36928       conv2_block1_1_relu[0][0]        \n",
            "__________________________________________________________________________________________________\n",
            "conv2_block1_2_bn (BatchNormali (None, 63, 63, 64)   256         conv2_block1_2_conv[0][0]        \n",
            "__________________________________________________________________________________________________\n",
            "conv2_block1_2_relu (Activation (None, 63, 63, 64)   0           conv2_block1_2_bn[0][0]          \n",
            "__________________________________________________________________________________________________\n",
            "conv2_block1_0_conv (Conv2D)    (None, 63, 63, 256)  16640       pool1_pool[0][0]                 \n",
            "__________________________________________________________________________________________________\n",
            "conv2_block1_3_conv (Conv2D)    (None, 63, 63, 256)  16640       conv2_block1_2_relu[0][0]        \n",
            "__________________________________________________________________________________________________\n",
            "conv2_block1_0_bn (BatchNormali (None, 63, 63, 256)  1024        conv2_block1_0_conv[0][0]        \n",
            "__________________________________________________________________________________________________\n",
            "conv2_block1_3_bn (BatchNormali (None, 63, 63, 256)  1024        conv2_block1_3_conv[0][0]        \n",
            "__________________________________________________________________________________________________\n",
            "conv2_block1_add (Add)          (None, 63, 63, 256)  0           conv2_block1_0_bn[0][0]          \n",
            "                                                                 conv2_block1_3_bn[0][0]          \n",
            "__________________________________________________________________________________________________\n",
            "conv2_block1_out (Activation)   (None, 63, 63, 256)  0           conv2_block1_add[0][0]           \n",
            "__________________________________________________________________________________________________\n",
            "conv2_block2_1_conv (Conv2D)    (None, 63, 63, 64)   16448       conv2_block1_out[0][0]           \n",
            "__________________________________________________________________________________________________\n",
            "conv2_block2_1_bn (BatchNormali (None, 63, 63, 64)   256         conv2_block2_1_conv[0][0]        \n",
            "__________________________________________________________________________________________________\n",
            "conv2_block2_1_relu (Activation (None, 63, 63, 64)   0           conv2_block2_1_bn[0][0]          \n",
            "__________________________________________________________________________________________________\n",
            "conv2_block2_2_conv (Conv2D)    (None, 63, 63, 64)   36928       conv2_block2_1_relu[0][0]        \n",
            "__________________________________________________________________________________________________\n",
            "conv2_block2_2_bn (BatchNormali (None, 63, 63, 64)   256         conv2_block2_2_conv[0][0]        \n",
            "__________________________________________________________________________________________________\n",
            "conv2_block2_2_relu (Activation (None, 63, 63, 64)   0           conv2_block2_2_bn[0][0]          \n",
            "__________________________________________________________________________________________________\n",
            "conv2_block2_3_conv (Conv2D)    (None, 63, 63, 256)  16640       conv2_block2_2_relu[0][0]        \n",
            "__________________________________________________________________________________________________\n",
            "conv2_block2_3_bn (BatchNormali (None, 63, 63, 256)  1024        conv2_block2_3_conv[0][0]        \n",
            "__________________________________________________________________________________________________\n",
            "conv2_block2_add (Add)          (None, 63, 63, 256)  0           conv2_block1_out[0][0]           \n",
            "                                                                 conv2_block2_3_bn[0][0]          \n",
            "__________________________________________________________________________________________________\n",
            "conv2_block2_out (Activation)   (None, 63, 63, 256)  0           conv2_block2_add[0][0]           \n",
            "__________________________________________________________________________________________________\n",
            "conv2_block3_1_conv (Conv2D)    (None, 63, 63, 64)   16448       conv2_block2_out[0][0]           \n",
            "__________________________________________________________________________________________________\n",
            "conv2_block3_1_bn (BatchNormali (None, 63, 63, 64)   256         conv2_block3_1_conv[0][0]        \n",
            "__________________________________________________________________________________________________\n",
            "conv2_block3_1_relu (Activation (None, 63, 63, 64)   0           conv2_block3_1_bn[0][0]          \n",
            "__________________________________________________________________________________________________\n",
            "conv2_block3_2_conv (Conv2D)    (None, 63, 63, 64)   36928       conv2_block3_1_relu[0][0]        \n",
            "__________________________________________________________________________________________________\n",
            "conv2_block3_2_bn (BatchNormali (None, 63, 63, 64)   256         conv2_block3_2_conv[0][0]        \n",
            "__________________________________________________________________________________________________\n",
            "conv2_block3_2_relu (Activation (None, 63, 63, 64)   0           conv2_block3_2_bn[0][0]          \n",
            "__________________________________________________________________________________________________\n",
            "conv2_block3_3_conv (Conv2D)    (None, 63, 63, 256)  16640       conv2_block3_2_relu[0][0]        \n",
            "__________________________________________________________________________________________________\n",
            "conv2_block3_3_bn (BatchNormali (None, 63, 63, 256)  1024        conv2_block3_3_conv[0][0]        \n",
            "__________________________________________________________________________________________________\n",
            "conv2_block3_add (Add)          (None, 63, 63, 256)  0           conv2_block2_out[0][0]           \n",
            "                                                                 conv2_block3_3_bn[0][0]          \n",
            "__________________________________________________________________________________________________\n",
            "conv2_block3_out (Activation)   (None, 63, 63, 256)  0           conv2_block3_add[0][0]           \n",
            "__________________________________________________________________________________________________\n",
            "conv3_block1_1_conv (Conv2D)    (None, 32, 32, 128)  32896       conv2_block3_out[0][0]           \n",
            "__________________________________________________________________________________________________\n",
            "conv3_block1_1_bn (BatchNormali (None, 32, 32, 128)  512         conv3_block1_1_conv[0][0]        \n",
            "__________________________________________________________________________________________________\n",
            "conv3_block1_1_relu (Activation (None, 32, 32, 128)  0           conv3_block1_1_bn[0][0]          \n",
            "__________________________________________________________________________________________________\n",
            "conv3_block1_2_conv (Conv2D)    (None, 32, 32, 128)  147584      conv3_block1_1_relu[0][0]        \n",
            "__________________________________________________________________________________________________\n",
            "conv3_block1_2_bn (BatchNormali (None, 32, 32, 128)  512         conv3_block1_2_conv[0][0]        \n",
            "__________________________________________________________________________________________________\n",
            "conv3_block1_2_relu (Activation (None, 32, 32, 128)  0           conv3_block1_2_bn[0][0]          \n",
            "__________________________________________________________________________________________________\n",
            "conv3_block1_0_conv (Conv2D)    (None, 32, 32, 512)  131584      conv2_block3_out[0][0]           \n",
            "__________________________________________________________________________________________________\n",
            "conv3_block1_3_conv (Conv2D)    (None, 32, 32, 512)  66048       conv3_block1_2_relu[0][0]        \n",
            "__________________________________________________________________________________________________\n",
            "conv3_block1_0_bn (BatchNormali (None, 32, 32, 512)  2048        conv3_block1_0_conv[0][0]        \n",
            "__________________________________________________________________________________________________\n",
            "conv3_block1_3_bn (BatchNormali (None, 32, 32, 512)  2048        conv3_block1_3_conv[0][0]        \n",
            "__________________________________________________________________________________________________\n",
            "conv3_block1_add (Add)          (None, 32, 32, 512)  0           conv3_block1_0_bn[0][0]          \n",
            "                                                                 conv3_block1_3_bn[0][0]          \n",
            "__________________________________________________________________________________________________\n",
            "conv3_block1_out (Activation)   (None, 32, 32, 512)  0           conv3_block1_add[0][0]           \n",
            "__________________________________________________________________________________________________\n",
            "conv3_block2_1_conv (Conv2D)    (None, 32, 32, 128)  65664       conv3_block1_out[0][0]           \n",
            "__________________________________________________________________________________________________\n",
            "conv3_block2_1_bn (BatchNormali (None, 32, 32, 128)  512         conv3_block2_1_conv[0][0]        \n",
            "__________________________________________________________________________________________________\n",
            "conv3_block2_1_relu (Activation (None, 32, 32, 128)  0           conv3_block2_1_bn[0][0]          \n",
            "__________________________________________________________________________________________________\n",
            "conv3_block2_2_conv (Conv2D)    (None, 32, 32, 128)  147584      conv3_block2_1_relu[0][0]        \n",
            "__________________________________________________________________________________________________\n",
            "conv3_block2_2_bn (BatchNormali (None, 32, 32, 128)  512         conv3_block2_2_conv[0][0]        \n",
            "__________________________________________________________________________________________________\n",
            "conv3_block2_2_relu (Activation (None, 32, 32, 128)  0           conv3_block2_2_bn[0][0]          \n",
            "__________________________________________________________________________________________________\n",
            "conv3_block2_3_conv (Conv2D)    (None, 32, 32, 512)  66048       conv3_block2_2_relu[0][0]        \n",
            "__________________________________________________________________________________________________\n",
            "conv3_block2_3_bn (BatchNormali (None, 32, 32, 512)  2048        conv3_block2_3_conv[0][0]        \n",
            "__________________________________________________________________________________________________\n",
            "conv3_block2_add (Add)          (None, 32, 32, 512)  0           conv3_block1_out[0][0]           \n",
            "                                                                 conv3_block2_3_bn[0][0]          \n",
            "__________________________________________________________________________________________________\n",
            "conv3_block2_out (Activation)   (None, 32, 32, 512)  0           conv3_block2_add[0][0]           \n",
            "__________________________________________________________________________________________________\n",
            "conv3_block3_1_conv (Conv2D)    (None, 32, 32, 128)  65664       conv3_block2_out[0][0]           \n",
            "__________________________________________________________________________________________________\n",
            "conv3_block3_1_bn (BatchNormali (None, 32, 32, 128)  512         conv3_block3_1_conv[0][0]        \n",
            "__________________________________________________________________________________________________\n",
            "conv3_block3_1_relu (Activation (None, 32, 32, 128)  0           conv3_block3_1_bn[0][0]          \n",
            "__________________________________________________________________________________________________\n",
            "conv3_block3_2_conv (Conv2D)    (None, 32, 32, 128)  147584      conv3_block3_1_relu[0][0]        \n",
            "__________________________________________________________________________________________________\n",
            "conv3_block3_2_bn (BatchNormali (None, 32, 32, 128)  512         conv3_block3_2_conv[0][0]        \n",
            "__________________________________________________________________________________________________\n",
            "conv3_block3_2_relu (Activation (None, 32, 32, 128)  0           conv3_block3_2_bn[0][0]          \n",
            "__________________________________________________________________________________________________\n",
            "conv3_block3_3_conv (Conv2D)    (None, 32, 32, 512)  66048       conv3_block3_2_relu[0][0]        \n",
            "__________________________________________________________________________________________________\n",
            "conv3_block3_3_bn (BatchNormali (None, 32, 32, 512)  2048        conv3_block3_3_conv[0][0]        \n",
            "__________________________________________________________________________________________________\n",
            "conv3_block3_add (Add)          (None, 32, 32, 512)  0           conv3_block2_out[0][0]           \n",
            "                                                                 conv3_block3_3_bn[0][0]          \n",
            "__________________________________________________________________________________________________\n",
            "conv3_block3_out (Activation)   (None, 32, 32, 512)  0           conv3_block3_add[0][0]           \n",
            "__________________________________________________________________________________________________\n",
            "conv3_block4_1_conv (Conv2D)    (None, 32, 32, 128)  65664       conv3_block3_out[0][0]           \n",
            "__________________________________________________________________________________________________\n",
            "conv3_block4_1_bn (BatchNormali (None, 32, 32, 128)  512         conv3_block4_1_conv[0][0]        \n",
            "__________________________________________________________________________________________________\n",
            "conv3_block4_1_relu (Activation (None, 32, 32, 128)  0           conv3_block4_1_bn[0][0]          \n",
            "__________________________________________________________________________________________________\n",
            "conv3_block4_2_conv (Conv2D)    (None, 32, 32, 128)  147584      conv3_block4_1_relu[0][0]        \n",
            "__________________________________________________________________________________________________\n",
            "conv3_block4_2_bn (BatchNormali (None, 32, 32, 128)  512         conv3_block4_2_conv[0][0]        \n",
            "__________________________________________________________________________________________________\n",
            "conv3_block4_2_relu (Activation (None, 32, 32, 128)  0           conv3_block4_2_bn[0][0]          \n",
            "__________________________________________________________________________________________________\n",
            "conv3_block4_3_conv (Conv2D)    (None, 32, 32, 512)  66048       conv3_block4_2_relu[0][0]        \n",
            "__________________________________________________________________________________________________\n",
            "conv3_block4_3_bn (BatchNormali (None, 32, 32, 512)  2048        conv3_block4_3_conv[0][0]        \n",
            "__________________________________________________________________________________________________\n",
            "conv3_block4_add (Add)          (None, 32, 32, 512)  0           conv3_block3_out[0][0]           \n",
            "                                                                 conv3_block4_3_bn[0][0]          \n",
            "__________________________________________________________________________________________________\n",
            "conv3_block4_out (Activation)   (None, 32, 32, 512)  0           conv3_block4_add[0][0]           \n",
            "__________________________________________________________________________________________________\n",
            "conv4_block1_1_conv (Conv2D)    (None, 16, 16, 256)  131328      conv3_block4_out[0][0]           \n",
            "__________________________________________________________________________________________________\n",
            "conv4_block1_1_bn (BatchNormali (None, 16, 16, 256)  1024        conv4_block1_1_conv[0][0]        \n",
            "__________________________________________________________________________________________________\n",
            "conv4_block1_1_relu (Activation (None, 16, 16, 256)  0           conv4_block1_1_bn[0][0]          \n",
            "__________________________________________________________________________________________________\n",
            "conv4_block1_2_conv (Conv2D)    (None, 16, 16, 256)  590080      conv4_block1_1_relu[0][0]        \n",
            "__________________________________________________________________________________________________\n",
            "conv4_block1_2_bn (BatchNormali (None, 16, 16, 256)  1024        conv4_block1_2_conv[0][0]        \n",
            "__________________________________________________________________________________________________\n",
            "conv4_block1_2_relu (Activation (None, 16, 16, 256)  0           conv4_block1_2_bn[0][0]          \n",
            "__________________________________________________________________________________________________\n",
            "conv4_block1_0_conv (Conv2D)    (None, 16, 16, 1024) 525312      conv3_block4_out[0][0]           \n",
            "__________________________________________________________________________________________________\n",
            "conv4_block1_3_conv (Conv2D)    (None, 16, 16, 1024) 263168      conv4_block1_2_relu[0][0]        \n",
            "__________________________________________________________________________________________________\n",
            "conv4_block1_0_bn (BatchNormali (None, 16, 16, 1024) 4096        conv4_block1_0_conv[0][0]        \n",
            "__________________________________________________________________________________________________\n",
            "conv4_block1_3_bn (BatchNormali (None, 16, 16, 1024) 4096        conv4_block1_3_conv[0][0]        \n",
            "__________________________________________________________________________________________________\n",
            "conv4_block1_add (Add)          (None, 16, 16, 1024) 0           conv4_block1_0_bn[0][0]          \n",
            "                                                                 conv4_block1_3_bn[0][0]          \n",
            "__________________________________________________________________________________________________\n",
            "conv4_block1_out (Activation)   (None, 16, 16, 1024) 0           conv4_block1_add[0][0]           \n",
            "__________________________________________________________________________________________________\n",
            "conv4_block2_1_conv (Conv2D)    (None, 16, 16, 256)  262400      conv4_block1_out[0][0]           \n",
            "__________________________________________________________________________________________________\n",
            "conv4_block2_1_bn (BatchNormali (None, 16, 16, 256)  1024        conv4_block2_1_conv[0][0]        \n",
            "__________________________________________________________________________________________________\n",
            "conv4_block2_1_relu (Activation (None, 16, 16, 256)  0           conv4_block2_1_bn[0][0]          \n",
            "__________________________________________________________________________________________________\n",
            "conv4_block2_2_conv (Conv2D)    (None, 16, 16, 256)  590080      conv4_block2_1_relu[0][0]        \n",
            "__________________________________________________________________________________________________\n",
            "conv4_block2_2_bn (BatchNormali (None, 16, 16, 256)  1024        conv4_block2_2_conv[0][0]        \n",
            "__________________________________________________________________________________________________\n",
            "conv4_block2_2_relu (Activation (None, 16, 16, 256)  0           conv4_block2_2_bn[0][0]          \n",
            "__________________________________________________________________________________________________\n",
            "conv4_block2_3_conv (Conv2D)    (None, 16, 16, 1024) 263168      conv4_block2_2_relu[0][0]        \n",
            "__________________________________________________________________________________________________\n",
            "conv4_block2_3_bn (BatchNormali (None, 16, 16, 1024) 4096        conv4_block2_3_conv[0][0]        \n",
            "__________________________________________________________________________________________________\n",
            "conv4_block2_add (Add)          (None, 16, 16, 1024) 0           conv4_block1_out[0][0]           \n",
            "                                                                 conv4_block2_3_bn[0][0]          \n",
            "__________________________________________________________________________________________________\n",
            "conv4_block2_out (Activation)   (None, 16, 16, 1024) 0           conv4_block2_add[0][0]           \n",
            "__________________________________________________________________________________________________\n",
            "conv4_block3_1_conv (Conv2D)    (None, 16, 16, 256)  262400      conv4_block2_out[0][0]           \n",
            "__________________________________________________________________________________________________\n",
            "conv4_block3_1_bn (BatchNormali (None, 16, 16, 256)  1024        conv4_block3_1_conv[0][0]        \n",
            "__________________________________________________________________________________________________\n",
            "conv4_block3_1_relu (Activation (None, 16, 16, 256)  0           conv4_block3_1_bn[0][0]          \n",
            "__________________________________________________________________________________________________\n",
            "conv4_block3_2_conv (Conv2D)    (None, 16, 16, 256)  590080      conv4_block3_1_relu[0][0]        \n",
            "__________________________________________________________________________________________________\n",
            "conv4_block3_2_bn (BatchNormali (None, 16, 16, 256)  1024        conv4_block3_2_conv[0][0]        \n",
            "__________________________________________________________________________________________________\n",
            "conv4_block3_2_relu (Activation (None, 16, 16, 256)  0           conv4_block3_2_bn[0][0]          \n",
            "__________________________________________________________________________________________________\n",
            "conv4_block3_3_conv (Conv2D)    (None, 16, 16, 1024) 263168      conv4_block3_2_relu[0][0]        \n",
            "__________________________________________________________________________________________________\n",
            "conv4_block3_3_bn (BatchNormali (None, 16, 16, 1024) 4096        conv4_block3_3_conv[0][0]        \n",
            "__________________________________________________________________________________________________\n",
            "conv4_block3_add (Add)          (None, 16, 16, 1024) 0           conv4_block2_out[0][0]           \n",
            "                                                                 conv4_block3_3_bn[0][0]          \n",
            "__________________________________________________________________________________________________\n",
            "conv4_block3_out (Activation)   (None, 16, 16, 1024) 0           conv4_block3_add[0][0]           \n",
            "__________________________________________________________________________________________________\n",
            "conv4_block4_1_conv (Conv2D)    (None, 16, 16, 256)  262400      conv4_block3_out[0][0]           \n",
            "__________________________________________________________________________________________________\n",
            "conv4_block4_1_bn (BatchNormali (None, 16, 16, 256)  1024        conv4_block4_1_conv[0][0]        \n",
            "__________________________________________________________________________________________________\n",
            "conv4_block4_1_relu (Activation (None, 16, 16, 256)  0           conv4_block4_1_bn[0][0]          \n",
            "__________________________________________________________________________________________________\n",
            "conv4_block4_2_conv (Conv2D)    (None, 16, 16, 256)  590080      conv4_block4_1_relu[0][0]        \n",
            "__________________________________________________________________________________________________\n",
            "conv4_block4_2_bn (BatchNormali (None, 16, 16, 256)  1024        conv4_block4_2_conv[0][0]        \n",
            "__________________________________________________________________________________________________\n",
            "conv4_block4_2_relu (Activation (None, 16, 16, 256)  0           conv4_block4_2_bn[0][0]          \n",
            "__________________________________________________________________________________________________\n",
            "conv4_block4_3_conv (Conv2D)    (None, 16, 16, 1024) 263168      conv4_block4_2_relu[0][0]        \n",
            "__________________________________________________________________________________________________\n",
            "conv4_block4_3_bn (BatchNormali (None, 16, 16, 1024) 4096        conv4_block4_3_conv[0][0]        \n",
            "__________________________________________________________________________________________________\n",
            "conv4_block4_add (Add)          (None, 16, 16, 1024) 0           conv4_block3_out[0][0]           \n",
            "                                                                 conv4_block4_3_bn[0][0]          \n",
            "__________________________________________________________________________________________________\n",
            "conv4_block4_out (Activation)   (None, 16, 16, 1024) 0           conv4_block4_add[0][0]           \n",
            "__________________________________________________________________________________________________\n",
            "conv4_block5_1_conv (Conv2D)    (None, 16, 16, 256)  262400      conv4_block4_out[0][0]           \n",
            "__________________________________________________________________________________________________\n",
            "conv4_block5_1_bn (BatchNormali (None, 16, 16, 256)  1024        conv4_block5_1_conv[0][0]        \n",
            "__________________________________________________________________________________________________\n",
            "conv4_block5_1_relu (Activation (None, 16, 16, 256)  0           conv4_block5_1_bn[0][0]          \n",
            "__________________________________________________________________________________________________\n",
            "conv4_block5_2_conv (Conv2D)    (None, 16, 16, 256)  590080      conv4_block5_1_relu[0][0]        \n",
            "__________________________________________________________________________________________________\n",
            "conv4_block5_2_bn (BatchNormali (None, 16, 16, 256)  1024        conv4_block5_2_conv[0][0]        \n",
            "__________________________________________________________________________________________________\n",
            "conv4_block5_2_relu (Activation (None, 16, 16, 256)  0           conv4_block5_2_bn[0][0]          \n",
            "__________________________________________________________________________________________________\n",
            "conv4_block5_3_conv (Conv2D)    (None, 16, 16, 1024) 263168      conv4_block5_2_relu[0][0]        \n",
            "__________________________________________________________________________________________________\n",
            "conv4_block5_3_bn (BatchNormali (None, 16, 16, 1024) 4096        conv4_block5_3_conv[0][0]        \n",
            "__________________________________________________________________________________________________\n",
            "conv4_block5_add (Add)          (None, 16, 16, 1024) 0           conv4_block4_out[0][0]           \n",
            "                                                                 conv4_block5_3_bn[0][0]          \n",
            "__________________________________________________________________________________________________\n",
            "conv4_block5_out (Activation)   (None, 16, 16, 1024) 0           conv4_block5_add[0][0]           \n",
            "__________________________________________________________________________________________________\n",
            "conv4_block6_1_conv (Conv2D)    (None, 16, 16, 256)  262400      conv4_block5_out[0][0]           \n",
            "__________________________________________________________________________________________________\n",
            "conv4_block6_1_bn (BatchNormali (None, 16, 16, 256)  1024        conv4_block6_1_conv[0][0]        \n",
            "__________________________________________________________________________________________________\n",
            "conv4_block6_1_relu (Activation (None, 16, 16, 256)  0           conv4_block6_1_bn[0][0]          \n",
            "__________________________________________________________________________________________________\n",
            "conv4_block6_2_conv (Conv2D)    (None, 16, 16, 256)  590080      conv4_block6_1_relu[0][0]        \n",
            "__________________________________________________________________________________________________\n",
            "conv4_block6_2_bn (BatchNormali (None, 16, 16, 256)  1024        conv4_block6_2_conv[0][0]        \n",
            "__________________________________________________________________________________________________\n",
            "conv4_block6_2_relu (Activation (None, 16, 16, 256)  0           conv4_block6_2_bn[0][0]          \n",
            "__________________________________________________________________________________________________\n",
            "conv4_block6_3_conv (Conv2D)    (None, 16, 16, 1024) 263168      conv4_block6_2_relu[0][0]        \n",
            "__________________________________________________________________________________________________\n",
            "conv4_block6_3_bn (BatchNormali (None, 16, 16, 1024) 4096        conv4_block6_3_conv[0][0]        \n",
            "__________________________________________________________________________________________________\n",
            "conv4_block6_add (Add)          (None, 16, 16, 1024) 0           conv4_block5_out[0][0]           \n",
            "                                                                 conv4_block6_3_bn[0][0]          \n",
            "__________________________________________________________________________________________________\n",
            "conv4_block6_out (Activation)   (None, 16, 16, 1024) 0           conv4_block6_add[0][0]           \n",
            "__________________________________________________________________________________________________\n",
            "conv5_block1_1_conv (Conv2D)    (None, 8, 8, 512)    524800      conv4_block6_out[0][0]           \n",
            "__________________________________________________________________________________________________\n",
            "conv5_block1_1_bn (BatchNormali (None, 8, 8, 512)    2048        conv5_block1_1_conv[0][0]        \n",
            "__________________________________________________________________________________________________\n",
            "conv5_block1_1_relu (Activation (None, 8, 8, 512)    0           conv5_block1_1_bn[0][0]          \n",
            "__________________________________________________________________________________________________\n",
            "conv5_block1_2_conv (Conv2D)    (None, 8, 8, 512)    2359808     conv5_block1_1_relu[0][0]        \n",
            "__________________________________________________________________________________________________\n",
            "conv5_block1_2_bn (BatchNormali (None, 8, 8, 512)    2048        conv5_block1_2_conv[0][0]        \n",
            "__________________________________________________________________________________________________\n",
            "conv5_block1_2_relu (Activation (None, 8, 8, 512)    0           conv5_block1_2_bn[0][0]          \n",
            "__________________________________________________________________________________________________\n",
            "conv5_block1_0_conv (Conv2D)    (None, 8, 8, 2048)   2099200     conv4_block6_out[0][0]           \n",
            "__________________________________________________________________________________________________\n",
            "conv5_block1_3_conv (Conv2D)    (None, 8, 8, 2048)   1050624     conv5_block1_2_relu[0][0]        \n",
            "__________________________________________________________________________________________________\n",
            "conv5_block1_0_bn (BatchNormali (None, 8, 8, 2048)   8192        conv5_block1_0_conv[0][0]        \n",
            "__________________________________________________________________________________________________\n",
            "conv5_block1_3_bn (BatchNormali (None, 8, 8, 2048)   8192        conv5_block1_3_conv[0][0]        \n",
            "__________________________________________________________________________________________________\n",
            "conv5_block1_add (Add)          (None, 8, 8, 2048)   0           conv5_block1_0_bn[0][0]          \n",
            "                                                                 conv5_block1_3_bn[0][0]          \n",
            "__________________________________________________________________________________________________\n",
            "conv5_block1_out (Activation)   (None, 8, 8, 2048)   0           conv5_block1_add[0][0]           \n",
            "__________________________________________________________________________________________________\n",
            "conv5_block2_1_conv (Conv2D)    (None, 8, 8, 512)    1049088     conv5_block1_out[0][0]           \n",
            "__________________________________________________________________________________________________\n",
            "conv5_block2_1_bn (BatchNormali (None, 8, 8, 512)    2048        conv5_block2_1_conv[0][0]        \n",
            "__________________________________________________________________________________________________\n",
            "conv5_block2_1_relu (Activation (None, 8, 8, 512)    0           conv5_block2_1_bn[0][0]          \n",
            "__________________________________________________________________________________________________\n",
            "conv5_block2_2_conv (Conv2D)    (None, 8, 8, 512)    2359808     conv5_block2_1_relu[0][0]        \n",
            "__________________________________________________________________________________________________\n",
            "conv5_block2_2_bn (BatchNormali (None, 8, 8, 512)    2048        conv5_block2_2_conv[0][0]        \n",
            "__________________________________________________________________________________________________\n",
            "conv5_block2_2_relu (Activation (None, 8, 8, 512)    0           conv5_block2_2_bn[0][0]          \n",
            "__________________________________________________________________________________________________\n",
            "conv5_block2_3_conv (Conv2D)    (None, 8, 8, 2048)   1050624     conv5_block2_2_relu[0][0]        \n",
            "__________________________________________________________________________________________________\n",
            "conv5_block2_3_bn (BatchNormali (None, 8, 8, 2048)   8192        conv5_block2_3_conv[0][0]        \n",
            "__________________________________________________________________________________________________\n",
            "conv5_block2_add (Add)          (None, 8, 8, 2048)   0           conv5_block1_out[0][0]           \n",
            "                                                                 conv5_block2_3_bn[0][0]          \n",
            "__________________________________________________________________________________________________\n",
            "conv5_block2_out (Activation)   (None, 8, 8, 2048)   0           conv5_block2_add[0][0]           \n",
            "__________________________________________________________________________________________________\n",
            "conv5_block3_1_conv (Conv2D)    (None, 8, 8, 512)    1049088     conv5_block2_out[0][0]           \n",
            "__________________________________________________________________________________________________\n",
            "conv5_block3_1_bn (BatchNormali (None, 8, 8, 512)    2048        conv5_block3_1_conv[0][0]        \n",
            "__________________________________________________________________________________________________\n",
            "conv5_block3_1_relu (Activation (None, 8, 8, 512)    0           conv5_block3_1_bn[0][0]          \n",
            "__________________________________________________________________________________________________\n",
            "conv5_block3_2_conv (Conv2D)    (None, 8, 8, 512)    2359808     conv5_block3_1_relu[0][0]        \n",
            "__________________________________________________________________________________________________\n",
            "conv5_block3_2_bn (BatchNormali (None, 8, 8, 512)    2048        conv5_block3_2_conv[0][0]        \n",
            "__________________________________________________________________________________________________\n",
            "conv5_block3_2_relu (Activation (None, 8, 8, 512)    0           conv5_block3_2_bn[0][0]          \n",
            "__________________________________________________________________________________________________\n",
            "conv5_block3_3_conv (Conv2D)    (None, 8, 8, 2048)   1050624     conv5_block3_2_relu[0][0]        \n",
            "__________________________________________________________________________________________________\n",
            "conv5_block3_3_bn (BatchNormali (None, 8, 8, 2048)   8192        conv5_block3_3_conv[0][0]        \n",
            "__________________________________________________________________________________________________\n",
            "conv5_block3_add (Add)          (None, 8, 8, 2048)   0           conv5_block2_out[0][0]           \n",
            "                                                                 conv5_block3_3_bn[0][0]          \n",
            "__________________________________________________________________________________________________\n",
            "conv5_block3_out (Activation)   (None, 8, 8, 2048)   0           conv5_block3_add[0][0]           \n",
            "__________________________________________________________________________________________________\n",
            "flatten (Flatten)               (None, 131072)       0           conv5_block3_out[0][0]           \n",
            "__________________________________________________________________________________________________\n",
            "dense (Dense)                   (None, 1024)         134218752   flatten[0][0]                    \n",
            "__________________________________________________________________________________________________\n",
            "dense_1 (Dense)                 (None, 512)          524800      dense[0][0]                      \n",
            "__________________________________________________________________________________________________\n",
            "dense_2 (Dense)                 (None, 256)          131328      dense_1[0][0]                    \n",
            "__________________________________________________________________________________________________\n",
            "dense_3 (Dense)                 (None, 6)            1542        dense_2[0][0]                    \n",
            "==================================================================================================\n",
            "Total params: 158,464,134\n",
            "Trainable params: 134,876,422\n",
            "Non-trainable params: 23,587,712\n",
            "__________________________________________________________________________________________________\n"
          ],
          "name": "stdout"
        }
      ]
    },
    {
      "cell_type": "code",
      "metadata": {
        "id": "Nbixr2uGQVez",
        "colab_type": "code",
        "colab": {
          "base_uri": "https://localhost:8080/",
          "height": 969
        },
        "outputId": "cc01e99a-8f78-4eea-b457-a21c5eb1b5c7"
      },
      "source": [
        "# model summary for vgg16\n",
        "model.summary()"
      ],
      "execution_count": 16,
      "outputs": [
        {
          "output_type": "stream",
          "text": [
            "Model: \"model\"\n",
            "_________________________________________________________________\n",
            "Layer (type)                 Output Shape              Param #   \n",
            "=================================================================\n",
            "input_1 (InputLayer)         [(None, 250, 250, 3)]     0         \n",
            "_________________________________________________________________\n",
            "block1_conv1 (Conv2D)        (None, 250, 250, 64)      1792      \n",
            "_________________________________________________________________\n",
            "block1_conv2 (Conv2D)        (None, 250, 250, 64)      36928     \n",
            "_________________________________________________________________\n",
            "block1_pool (MaxPooling2D)   (None, 125, 125, 64)      0         \n",
            "_________________________________________________________________\n",
            "block2_conv1 (Conv2D)        (None, 125, 125, 128)     73856     \n",
            "_________________________________________________________________\n",
            "block2_conv2 (Conv2D)        (None, 125, 125, 128)     147584    \n",
            "_________________________________________________________________\n",
            "block2_pool (MaxPooling2D)   (None, 62, 62, 128)       0         \n",
            "_________________________________________________________________\n",
            "block3_conv1 (Conv2D)        (None, 62, 62, 256)       295168    \n",
            "_________________________________________________________________\n",
            "block3_conv2 (Conv2D)        (None, 62, 62, 256)       590080    \n",
            "_________________________________________________________________\n",
            "block3_conv3 (Conv2D)        (None, 62, 62, 256)       590080    \n",
            "_________________________________________________________________\n",
            "block3_pool (MaxPooling2D)   (None, 31, 31, 256)       0         \n",
            "_________________________________________________________________\n",
            "block4_conv1 (Conv2D)        (None, 31, 31, 512)       1180160   \n",
            "_________________________________________________________________\n",
            "block4_conv2 (Conv2D)        (None, 31, 31, 512)       2359808   \n",
            "_________________________________________________________________\n",
            "block4_conv3 (Conv2D)        (None, 31, 31, 512)       2359808   \n",
            "_________________________________________________________________\n",
            "block4_pool (MaxPooling2D)   (None, 15, 15, 512)       0         \n",
            "_________________________________________________________________\n",
            "block5_conv1 (Conv2D)        (None, 15, 15, 512)       2359808   \n",
            "_________________________________________________________________\n",
            "block5_conv2 (Conv2D)        (None, 15, 15, 512)       2359808   \n",
            "_________________________________________________________________\n",
            "block5_conv3 (Conv2D)        (None, 15, 15, 512)       2359808   \n",
            "_________________________________________________________________\n",
            "block5_pool (MaxPooling2D)   (None, 7, 7, 512)         0         \n",
            "_________________________________________________________________\n",
            "flatten (Flatten)            (None, 25088)             0         \n",
            "_________________________________________________________________\n",
            "dense (Dense)                (None, 1024)              25691136  \n",
            "_________________________________________________________________\n",
            "dense_1 (Dense)              (None, 512)               524800    \n",
            "_________________________________________________________________\n",
            "dense_2 (Dense)              (None, 256)               131328    \n",
            "_________________________________________________________________\n",
            "dense_3 (Dense)              (None, 6)                 1542      \n",
            "=================================================================\n",
            "Total params: 41,063,494\n",
            "Trainable params: 26,348,806\n",
            "Non-trainable params: 14,714,688\n",
            "_________________________________________________________________\n"
          ],
          "name": "stdout"
        }
      ]
    },
    {
      "cell_type": "code",
      "metadata": {
        "id": "ClhIiZt9GFEG",
        "colab_type": "code",
        "colab": {}
      },
      "source": [
        "# here we complie the model and tell the model what is our optimizer and calculate the lose\n",
        "# from tensorflow.keras.optimizers import Adam\n",
        "model.compile(\n",
        "    loss='categorical_crossentropy',\n",
        "    optimizer='adam',\n",
        "    metrics=['accuracy']\n",
        ")"
      ],
      "execution_count": 32,
      "outputs": []
    },
    {
      "cell_type": "code",
      "metadata": {
        "id": "RZCGU62XGqXj",
        "colab_type": "code",
        "colab": {}
      },
      "source": [
        "# use the image data generator to import from the dataset\n",
        "train_datagen=ImageDataGenerator(rescale=1./255,\n",
        "                                 shear_range=0.2,\n",
        "                                 zoom_range=0.2,\n",
        "                                 horizontal_flip=True)\n",
        "test_datagen=ImageDataGenerator(rescale=1./255)"
      ],
      "execution_count": 18,
      "outputs": []
    },
    {
      "cell_type": "code",
      "metadata": {
        "id": "QKjIOVeWId-K",
        "colab_type": "code",
        "colab": {
          "base_uri": "https://localhost:8080/",
          "height": 34
        },
        "outputId": "c2f04f9e-ab98-4df3-e921-50a5eb2fc713"
      },
      "source": [
        "# here we are doing data read the data from directory \n",
        "training_set=train_datagen.flow_from_directory('/content/train',\n",
        "                                               target_size=(250,250),\n",
        "                                               batch_size=10,\n",
        "                                               class_mode='categorical')"
      ],
      "execution_count": 19,
      "outputs": [
        {
          "output_type": "stream",
          "text": [
            "Found 219 images belonging to 6 classes.\n"
          ],
          "name": "stdout"
        }
      ]
    },
    {
      "cell_type": "code",
      "metadata": {
        "id": "6XlKMDYNJPMP",
        "colab_type": "code",
        "colab": {
          "base_uri": "https://localhost:8080/",
          "height": 34
        },
        "outputId": "0060daca-dd23-4ad2-840f-e49e16c5b1c9"
      },
      "source": [
        "# same here for test data\n",
        "test_set=test_datagen.flow_from_directory('/content/test',\n",
        "                                               target_size=(250,250),\n",
        "                                               batch_size=10,\n",
        "                                               class_mode='categorical')"
      ],
      "execution_count": 20,
      "outputs": [
        {
          "output_type": "stream",
          "text": [
            "Found 150 images belonging to 6 classes.\n"
          ],
          "name": "stdout"
        }
      ]
    },
    {
      "cell_type": "code",
      "metadata": {
        "id": "GBrAM7eRLZl6",
        "colab_type": "code",
        "colab": {
          "base_uri": "https://localhost:8080/",
          "height": 34
        },
        "outputId": "8fe067f6-09cf-4547-d377-37056358e739"
      },
      "source": [
        "len(training_set),len(test_set)"
      ],
      "execution_count": 21,
      "outputs": [
        {
          "output_type": "execute_result",
          "data": {
            "text/plain": [
              "(22, 15)"
            ]
          },
          "metadata": {
            "tags": []
          },
          "execution_count": 21
        }
      ]
    },
    {
      "cell_type": "code",
      "metadata": {
        "id": "-p3HaSuPRejz",
        "colab_type": "code",
        "colab": {
          "base_uri": "https://localhost:8080/",
          "height": 34
        },
        "outputId": "8bef4e01-e51e-4cf3-ed2a-3d4559ae6c78"
      },
      "source": [
        "from tensorflow.keras.callbacks import ModelCheckpoint, EarlyStopping\n",
        "\n",
        "##Early stopping\n",
        "early = EarlyStopping(monitor='val_loss', min_delta=0, patience=20, verbose=0, mode='auto', baseline=None, restore_best_weights=False)\n",
        "\n",
        "##Save weights only\n",
        "# filepath = 'weights-{epoch:02d}-{loss:.4f}.h5'\n",
        "# check_1 = ModelCheckpoint(filepath, monitor='val_loss', verbose=1, save_best_only=True, save_weights_only=True, mode='auto', period=1)\n",
        "##Save Model\n",
        "filepath = 'model-{epoch:02d}-{loss:.4f}.h5'\n",
        "check_2 = ModelCheckpoint(filepath, monitor='val_loss', verbose=1, save_best_only=True, save_weights_only=False, mode='auto', period=1)"
      ],
      "execution_count": 28,
      "outputs": [
        {
          "output_type": "stream",
          "text": [
            "WARNING:tensorflow:`period` argument is deprecated. Please use `save_freq` to specify the frequency in number of batches seen.\n"
          ],
          "name": "stdout"
        }
      ]
    },
    {
      "cell_type": "code",
      "metadata": {
        "id": "Y9S6T-pTJc4X",
        "colab_type": "code",
        "colab": {
          "base_uri": "https://localhost:8080/",
          "height": 1000
        },
        "outputId": "c1cb935f-f6f5-47a9-e1d3-0ada156c4e64"
      },
      "source": [
        "graph_1=model.fit(training_set,\n",
        "                validation_data=test_set,\n",
        "                epochs=50,\n",
        "                steps_per_epoch=len(training_set),\n",
        "                validation_steps=len(test_set),\n",
        "                verbose=2,\n",
        "                callbacks = [early, check_2])"
      ],
      "execution_count": 33,
      "outputs": [
        {
          "output_type": "stream",
          "text": [
            "Epoch 1/50\n",
            "\n",
            "Epoch 00001: val_loss did not improve from 2.18589\n",
            "22/22 - 7s - loss: 0.0942 - accuracy: 0.9772 - val_loss: 5.6322 - val_accuracy: 0.3067\n",
            "Epoch 2/50\n",
            "\n",
            "Epoch 00002: val_loss did not improve from 2.18589\n",
            "22/22 - 7s - loss: 0.4399 - accuracy: 0.9132 - val_loss: 5.6512 - val_accuracy: 0.3267\n",
            "Epoch 3/50\n",
            "\n",
            "Epoch 00003: val_loss did not improve from 2.18589\n",
            "22/22 - 7s - loss: 0.1733 - accuracy: 0.9452 - val_loss: 6.3266 - val_accuracy: 0.2800\n",
            "Epoch 4/50\n",
            "\n",
            "Epoch 00004: val_loss did not improve from 2.18589\n",
            "22/22 - 7s - loss: 0.1005 - accuracy: 0.9772 - val_loss: 6.0962 - val_accuracy: 0.3467\n",
            "Epoch 5/50\n",
            "\n",
            "Epoch 00005: val_loss did not improve from 2.18589\n",
            "22/22 - 7s - loss: 0.1028 - accuracy: 0.9863 - val_loss: 5.4750 - val_accuracy: 0.3733\n",
            "Epoch 6/50\n",
            "\n",
            "Epoch 00006: val_loss did not improve from 2.18589\n",
            "22/22 - 7s - loss: 0.0183 - accuracy: 0.9954 - val_loss: 5.3444 - val_accuracy: 0.3933\n",
            "Epoch 7/50\n",
            "\n",
            "Epoch 00007: val_loss did not improve from 2.18589\n",
            "22/22 - 7s - loss: 0.0452 - accuracy: 0.9954 - val_loss: 5.7513 - val_accuracy: 0.3400\n",
            "Epoch 8/50\n",
            "\n",
            "Epoch 00008: val_loss did not improve from 2.18589\n",
            "22/22 - 7s - loss: 0.0776 - accuracy: 0.9817 - val_loss: 5.9762 - val_accuracy: 0.3133\n",
            "Epoch 9/50\n",
            "\n",
            "Epoch 00009: val_loss did not improve from 2.18589\n",
            "22/22 - 7s - loss: 0.1654 - accuracy: 0.9543 - val_loss: 6.1798 - val_accuracy: 0.2933\n",
            "Epoch 10/50\n",
            "\n",
            "Epoch 00010: val_loss did not improve from 2.18589\n",
            "22/22 - 7s - loss: 0.0537 - accuracy: 0.9772 - val_loss: 6.1660 - val_accuracy: 0.3133\n",
            "Epoch 11/50\n",
            "\n",
            "Epoch 00011: val_loss did not improve from 2.18589\n",
            "22/22 - 7s - loss: 0.0105 - accuracy: 0.9954 - val_loss: 7.3264 - val_accuracy: 0.3267\n",
            "Epoch 12/50\n",
            "\n",
            "Epoch 00012: val_loss did not improve from 2.18589\n",
            "22/22 - 7s - loss: 0.0041 - accuracy: 1.0000 - val_loss: 7.8826 - val_accuracy: 0.2733\n",
            "Epoch 13/50\n",
            "\n",
            "Epoch 00013: val_loss did not improve from 2.18589\n",
            "22/22 - 7s - loss: 0.0424 - accuracy: 0.9909 - val_loss: 8.7869 - val_accuracy: 0.3200\n",
            "Epoch 14/50\n",
            "\n",
            "Epoch 00014: val_loss did not improve from 2.18589\n",
            "22/22 - 7s - loss: 0.1215 - accuracy: 0.9817 - val_loss: 5.5796 - val_accuracy: 0.2867\n",
            "Epoch 15/50\n",
            "\n",
            "Epoch 00015: val_loss did not improve from 2.18589\n",
            "22/22 - 7s - loss: 0.0085 - accuracy: 0.9954 - val_loss: 6.6540 - val_accuracy: 0.2933\n",
            "Epoch 16/50\n",
            "\n",
            "Epoch 00016: val_loss did not improve from 2.18589\n",
            "22/22 - 7s - loss: 0.0458 - accuracy: 0.9863 - val_loss: 6.1362 - val_accuracy: 0.3067\n",
            "Epoch 17/50\n",
            "\n",
            "Epoch 00017: val_loss did not improve from 2.18589\n",
            "22/22 - 7s - loss: 0.0506 - accuracy: 0.9909 - val_loss: 6.1010 - val_accuracy: 0.3467\n",
            "Epoch 18/50\n",
            "\n",
            "Epoch 00018: val_loss did not improve from 2.18589\n",
            "22/22 - 7s - loss: 0.0991 - accuracy: 0.9772 - val_loss: 6.8234 - val_accuracy: 0.3267\n",
            "Epoch 19/50\n",
            "\n",
            "Epoch 00019: val_loss did not improve from 2.18589\n",
            "22/22 - 7s - loss: 0.0535 - accuracy: 0.9817 - val_loss: 5.7360 - val_accuracy: 0.3200\n",
            "Epoch 20/50\n",
            "\n",
            "Epoch 00020: val_loss did not improve from 2.18589\n",
            "22/22 - 7s - loss: 0.0217 - accuracy: 0.9909 - val_loss: 6.2373 - val_accuracy: 0.3400\n",
            "Epoch 21/50\n",
            "\n",
            "Epoch 00021: val_loss did not improve from 2.18589\n",
            "22/22 - 7s - loss: 0.0208 - accuracy: 0.9863 - val_loss: 6.8559 - val_accuracy: 0.3267\n",
            "Epoch 22/50\n",
            "\n",
            "Epoch 00022: val_loss did not improve from 2.18589\n",
            "22/22 - 7s - loss: 0.0781 - accuracy: 0.9772 - val_loss: 6.2370 - val_accuracy: 0.3600\n",
            "Epoch 23/50\n",
            "\n",
            "Epoch 00023: val_loss did not improve from 2.18589\n",
            "22/22 - 7s - loss: 0.0563 - accuracy: 0.9817 - val_loss: 7.7110 - val_accuracy: 0.3467\n",
            "Epoch 24/50\n",
            "\n",
            "Epoch 00024: val_loss did not improve from 2.18589\n",
            "22/22 - 7s - loss: 0.3128 - accuracy: 0.9452 - val_loss: 7.4107 - val_accuracy: 0.3333\n",
            "Epoch 25/50\n",
            "\n",
            "Epoch 00025: val_loss did not improve from 2.18589\n",
            "22/22 - 7s - loss: 0.1625 - accuracy: 0.9589 - val_loss: 6.6987 - val_accuracy: 0.3333\n",
            "Epoch 26/50\n",
            "\n",
            "Epoch 00026: val_loss did not improve from 2.18589\n",
            "22/22 - 7s - loss: 0.0172 - accuracy: 0.9954 - val_loss: 7.0418 - val_accuracy: 0.3333\n"
          ],
          "name": "stdout"
        }
      ]
    },
    {
      "cell_type": "code",
      "metadata": {
        "id": "zUeCmT96KVrO",
        "colab_type": "code",
        "colab": {
          "base_uri": "https://localhost:8080/",
          "height": 1000
        },
        "outputId": "1cfdcb14-c386-4365-c2c8-1d7bac3f2d9b"
      },
      "source": [
        "# when i use resnet \n",
        "graph.history"
      ],
      "execution_count": null,
      "outputs": [
        {
          "output_type": "execute_result",
          "data": {
            "text/plain": [
              "{'accuracy': [0.1780821979045868,\n",
              "  0.2283104956150055,\n",
              "  0.24200913310050964,\n",
              "  0.19634702801704407,\n",
              "  0.24200913310050964,\n",
              "  0.2876712381839752,\n",
              "  0.24200913310050964,\n",
              "  0.26940637826919556,\n",
              "  0.24657534062862396,\n",
              "  0.2557077705860138,\n",
              "  0.2876712381839752,\n",
              "  0.34246575832366943,\n",
              "  0.26940637826919556,\n",
              "  0.310502290725708,\n",
              "  0.35159817337989807,\n",
              "  0.34246575832366943,\n",
              "  0.34246575832366943,\n",
              "  0.30136987566947937,\n",
              "  0.3561643958091736,\n",
              "  0.31963470578193665,\n",
              "  0.3652968108654022,\n",
              "  0.2785388231277466,\n",
              "  0.39269405603408813,\n",
              "  0.3287671208381653,\n",
              "  0.30136987566947937,\n",
              "  0.31963470578193665,\n",
              "  0.2876712381839752,\n",
              "  0.2602739632129669,\n",
              "  0.31963470578193665,\n",
              "  0.2831050157546997,\n",
              "  0.36986300349235535,\n",
              "  0.31506848335266113,\n",
              "  0.3607305884361267,\n",
              "  0.31506848335266113,\n",
              "  0.39269405603408813,\n",
              "  0.34246575832366943,\n",
              "  0.35159817337989807,\n",
              "  0.4292237460613251,\n",
              "  0.37899544835090637,\n",
              "  0.388127863407135,\n",
              "  0.42009133100509644,\n",
              "  0.3835616409778595,\n",
              "  0.4018264710903168,\n",
              "  0.4063926935195923,\n",
              "  0.34246575832366943,\n",
              "  0.39269405603408813,\n",
              "  0.4155251085758209,\n",
              "  0.4063926935195923,\n",
              "  0.4018264710903168,\n",
              "  0.4337899684906006],\n",
              " 'loss': [21.712318420410156,\n",
              "  7.047171592712402,\n",
              "  3.1833062171936035,\n",
              "  2.6249961853027344,\n",
              "  1.9403376579284668,\n",
              "  1.88516366481781,\n",
              "  1.893325924873352,\n",
              "  1.819113850593567,\n",
              "  1.8356856107711792,\n",
              "  1.8260289430618286,\n",
              "  1.7182966470718384,\n",
              "  1.7694346904754639,\n",
              "  1.688590168952942,\n",
              "  1.6632392406463623,\n",
              "  1.7458000183105469,\n",
              "  1.6926825046539307,\n",
              "  1.655206322669983,\n",
              "  1.7093065977096558,\n",
              "  1.6824595928192139,\n",
              "  1.7120287418365479,\n",
              "  1.5687975883483887,\n",
              "  1.734383463859558,\n",
              "  1.583954930305481,\n",
              "  1.7141512632369995,\n",
              "  1.671857476234436,\n",
              "  1.6430522203445435,\n",
              "  1.7743884325027466,\n",
              "  1.7232502698898315,\n",
              "  1.6588799953460693,\n",
              "  1.6820868253707886,\n",
              "  1.517430305480957,\n",
              "  1.6189937591552734,\n",
              "  1.5272676944732666,\n",
              "  1.6385389566421509,\n",
              "  1.555952787399292,\n",
              "  1.7079209089279175,\n",
              "  1.5693137645721436,\n",
              "  1.4281020164489746,\n",
              "  1.5440236330032349,\n",
              "  1.474812388420105,\n",
              "  1.3638848066329956,\n",
              "  1.527347207069397,\n",
              "  1.4689935445785522,\n",
              "  1.4653178453445435,\n",
              "  1.6244572401046753,\n",
              "  1.5325541496276855,\n",
              "  1.3988113403320312,\n",
              "  1.4184482097625732,\n",
              "  1.4017784595489502,\n",
              "  1.3704357147216797],\n",
              " 'val_accuracy': [0.1666666716337204,\n",
              "  0.1666666716337204,\n",
              "  0.20666666328907013,\n",
              "  0.15333333611488342,\n",
              "  0.19333332777023315,\n",
              "  0.2133333384990692,\n",
              "  0.20000000298023224,\n",
              "  0.20000000298023224,\n",
              "  0.1599999964237213,\n",
              "  0.18666666746139526,\n",
              "  0.19333332777023315,\n",
              "  0.20000000298023224,\n",
              "  0.19333332777023315,\n",
              "  0.1599999964237213,\n",
              "  0.25333333015441895,\n",
              "  0.19333332777023315,\n",
              "  0.1666666716337204,\n",
              "  0.2199999988079071,\n",
              "  0.18666666746139526,\n",
              "  0.23999999463558197,\n",
              "  0.18000000715255737,\n",
              "  0.1599999964237213,\n",
              "  0.19333332777023315,\n",
              "  0.18666666746139526,\n",
              "  0.14666666090488434,\n",
              "  0.20000000298023224,\n",
              "  0.20666666328907013,\n",
              "  0.20666666328907013,\n",
              "  0.18666666746139526,\n",
              "  0.1733333319425583,\n",
              "  0.2133333384990692,\n",
              "  0.19333332777023315,\n",
              "  0.1599999964237213,\n",
              "  0.18000000715255737,\n",
              "  0.24666666984558105,\n",
              "  0.2199999988079071,\n",
              "  0.2133333384990692,\n",
              "  0.19333332777023315,\n",
              "  0.15333333611488342,\n",
              "  0.19333332777023315,\n",
              "  0.20000000298023224,\n",
              "  0.18666666746139526,\n",
              "  0.23333333432674408,\n",
              "  0.20666666328907013,\n",
              "  0.18666666746139526,\n",
              "  0.20000000298023224,\n",
              "  0.20000000298023224,\n",
              "  0.1666666716337204,\n",
              "  0.19333332777023315,\n",
              "  0.1666666716337204],\n",
              " 'val_loss': [15.396038055419922,\n",
              "  3.522585391998291,\n",
              "  3.466291904449463,\n",
              "  2.4213929176330566,\n",
              "  2.0306735038757324,\n",
              "  2.0808112621307373,\n",
              "  1.952117681503296,\n",
              "  2.076810359954834,\n",
              "  2.2223169803619385,\n",
              "  2.173854112625122,\n",
              "  2.1826541423797607,\n",
              "  2.0258357524871826,\n",
              "  1.866837978363037,\n",
              "  1.9916402101516724,\n",
              "  2.061316728591919,\n",
              "  1.912269115447998,\n",
              "  2.088164806365967,\n",
              "  1.8565460443496704,\n",
              "  1.9759281873703003,\n",
              "  1.8498488664627075,\n",
              "  1.9499293565750122,\n",
              "  2.1153929233551025,\n",
              "  2.5077884197235107,\n",
              "  2.3021442890167236,\n",
              "  1.855291724205017,\n",
              "  1.9327632188796997,\n",
              "  1.8769505023956299,\n",
              "  1.9014371633529663,\n",
              "  1.849243402481079,\n",
              "  1.848466396331787,\n",
              "  2.053109884262085,\n",
              "  1.9460374116897583,\n",
              "  2.147207260131836,\n",
              "  1.881008267402649,\n",
              "  1.8962857723236084,\n",
              "  1.9157191514968872,\n",
              "  1.9231386184692383,\n",
              "  2.0846364498138428,\n",
              "  1.9854915142059326,\n",
              "  2.0164830684661865,\n",
              "  2.143179416656494,\n",
              "  1.9836704730987549,\n",
              "  2.385787010192871,\n",
              "  2.2221832275390625,\n",
              "  1.8613897562026978,\n",
              "  1.912865161895752,\n",
              "  1.927777886390686,\n",
              "  2.0345401763916016,\n",
              "  2.0701775550842285,\n",
              "  2.1494665145874023]}"
            ]
          },
          "metadata": {
            "tags": []
          },
          "execution_count": 20
        }
      ]
    },
    {
      "cell_type": "code",
      "metadata": {
        "id": "_8NYMAqBKXQT",
        "colab_type": "code",
        "colab": {
          "base_uri": "https://localhost:8080/",
          "height": 284
        },
        "outputId": "4ad0de45-37cd-4577-d6dc-32166766729f"
      },
      "source": [
        "# plot the model loss, when I used resnet\n",
        "\n",
        "plt.plot(graph.history['loss'], label='train_loss')\n",
        "plt.plot(graph.history['val_loss'],label='val_loss')\n",
        "plt.legend()\n",
        "plt.show()\n",
        "plt.savefig('LossVal_loss')\n"
      ],
      "execution_count": null,
      "outputs": [
        {
          "output_type": "display_data",
          "data": {
            "image/png": "[encoded data removed]",
            "text/plain": [
              "<Figure size 432x288 with 1 Axes>"
            ]
          },
          "metadata": {
            "tags": [],
            "needs_background": "light"
          }
        },
        {
          "output_type": "display_data",
          "data": {
            "text/plain": [
              "<Figure size 432x288 with 0 Axes>"
            ]
          },
          "metadata": {
            "tags": []
          }
        }
      ]
    },
    {
      "cell_type": "code",
      "metadata": {
        "id": "nfcgZT1gOz8U",
        "colab_type": "code",
        "colab": {
          "base_uri": "https://localhost:8080/",
          "height": 284
        },
        "outputId": "44309cca-f3ba-4a4c-b6fa-4206e0442160"
      },
      "source": [
        "# plot the model accuracy, when I used resnet\n",
        "\n",
        "plt.plot(graph.history['loss'], label='train_loss')\n",
        "plt.plot(graph.history['val_loss'],label='val_loss')\n",
        "plt.legend()\n",
        "plt.show()\n",
        "plt.savefig('AccVal_loss')"
      ],
      "execution_count": null,
      "outputs": [
        {
          "output_type": "display_data",
          "data": {
            "image/png": "[encoded data removed]",
            "text/plain": [
              "<Figure size 432x288 with 1 Axes>"
            ]
          },
          "metadata": {
            "tags": [],
            "needs_background": "light"
          }
        },
        {
          "output_type": "display_data",
          "data": {
            "text/plain": [
              "<Figure size 432x288 with 0 Axes>"
            ]
          },
          "metadata": {
            "tags": []
          }
        }
      ]
    },
    {
      "cell_type": "code",
      "metadata": {
        "id": "8OqeytQYO_QD",
        "colab_type": "code",
        "colab": {
          "base_uri": "https://localhost:8080/",
          "height": 282
        },
        "outputId": "28049254-047b-49b2-86b7-5de7feccd079"
      },
      "source": [
        "# plot the model loss, when I used Vgg16\n",
        "\n",
        "plt.plot(graph_1.history['loss'], label='train_loss')\n",
        "plt.plot(graph_1.history['val_loss'],label='val_loss')\n",
        "plt.legend()\n",
        "plt.show()\n",
        "plt.savefig('LossVal_loss')"
      ],
      "execution_count": 34,
      "outputs": [
        {
          "output_type": "display_data",
          "data": {
            "image/png": "[encoded data removed]",
            "text/plain": [
              "<Figure size 432x288 with 1 Axes>"
            ]
          },
          "metadata": {
            "tags": [],
            "needs_background": "light"
          }
        },
        {
          "output_type": "display_data",
          "data": {
            "text/plain": [
              "<Figure size 432x288 with 0 Axes>"
            ]
          },
          "metadata": {
            "tags": []
          }
        }
      ]
    },
    {
      "cell_type": "code",
      "metadata": {
        "id": "B_Dz36dqSvX8",
        "colab_type": "code",
        "colab": {
          "base_uri": "https://localhost:8080/",
          "height": 282
        },
        "outputId": "f7dcd7a3-718e-49ea-8d64-a6143d8155c9"
      },
      "source": [
        "# plot the model accuracy, when I used Vgg16\n",
        "\n",
        "plt.plot(graph_1.history['loss'], label='train_loss')\n",
        "plt.plot(graph_1.history['val_loss'],label='val_loss')\n",
        "plt.legend()\n",
        "plt.show()\n",
        "plt.savefig('AccVal_loss')"
      ],
      "execution_count": 35,
      "outputs": [
        {
          "output_type": "display_data",
          "data": {
            "image/png": "[encoded data removed]",
            "text/plain": [
              "<Figure size 432x288 with 1 Axes>"
            ]
          },
          "metadata": {
            "tags": [],
            "needs_background": "light"
          }
        },
        {
          "output_type": "display_data",
          "data": {
            "text/plain": [
              "<Figure size 432x288 with 0 Axes>"
            ]
          },
          "metadata": {
            "tags": []
          }
        }
      ]
    },
    {
      "cell_type": "code",
      "metadata": {
        "id": "3Zck3Gq6T49m",
        "colab_type": "code",
        "colab": {}
      },
      "source": [
        "# saving the model\n",
        "\n",
        "from tensorflow.keras.models import load_model\n",
        "\n",
        "model.save('model.vgg16.h5')"
      ],
      "execution_count": 38,
      "outputs": []
    },
    {
      "cell_type": "code",
      "metadata": {
        "id": "TSKRi_laZ1wf",
        "colab_type": "code",
        "colab": {}
      },
      "source": [
        "y_pred=model.predict(test_set)"
      ],
      "execution_count": 39,
      "outputs": []
    },
    {
      "cell_type": "code",
      "metadata": {
        "id": "OwlPfUnma_F_",
        "colab_type": "code",
        "colab": {
          "base_uri": "https://localhost:8080/",
          "height": 1000
        },
        "outputId": "bb14d853-1fe8-4bb3-ed41-630216961218"
      },
      "source": [
        "# it predict 6 classes\n",
        "\n",
        "y_pred"
      ],
      "execution_count": 40,
      "outputs": [
        {
          "output_type": "execute_result",
          "data": {
            "text/plain": [
              "array([[2.44000194e-06, 4.87955674e-07, 3.63298909e-06, 3.91859885e-07,\n",
              "        9.99936819e-01, 5.62801906e-05],\n",
              "       [7.74790795e-14, 2.14612792e-13, 1.14588099e-14, 1.83359909e-16,\n",
              "        9.19534739e-13, 1.00000000e+00],\n",
              "       [6.39599108e-04, 8.63487912e-07, 9.97881353e-01, 1.80639108e-05,\n",
              "        1.45629561e-03, 3.77994661e-06],\n",
              "       [6.75382689e-05, 8.55745003e-03, 3.93135488e-01, 8.11215956e-04,\n",
              "        2.26315379e-01, 3.71112972e-01],\n",
              "       [3.17412560e-06, 4.08128972e-06, 1.13198371e-03, 1.97793710e-08,\n",
              "        6.15632045e-04, 9.98245120e-01],\n",
              "       [2.37864588e-04, 1.57371585e-06, 1.08401150e-01, 3.74101619e-05,\n",
              "        8.91187131e-01, 1.34882968e-04],\n",
              "       [7.20678363e-04, 8.80495086e-02, 1.34820104e-01, 7.69763887e-01,\n",
              "        2.67544459e-03, 3.97036690e-03],\n",
              "       [3.11435055e-04, 6.14109874e-11, 9.99511003e-01, 8.46420001e-09,\n",
              "        1.77568843e-04, 1.01482094e-08],\n",
              "       [4.42136750e-02, 1.84052809e-08, 4.70177984e-05, 1.58505848e-08,\n",
              "        9.55436587e-01, 3.02770466e-04],\n",
              "       [1.88566123e-08, 2.42242777e-07, 5.41630034e-05, 9.99868035e-01,\n",
              "        7.67416059e-05, 9.12917415e-07],\n",
              "       [4.54923356e-05, 7.92919457e-01, 1.71839714e-01, 2.99837124e-02,\n",
              "        6.11758674e-04, 4.59987950e-03],\n",
              "       [2.76085342e-25, 1.00000000e+00, 1.46672227e-22, 3.58401236e-20,\n",
              "        3.75834122e-24, 3.42594541e-21],\n",
              "       [3.67820758e-05, 7.19220564e-03, 2.17791330e-02, 1.80879589e-02,\n",
              "        1.45395836e-02, 9.38364387e-01],\n",
              "       [1.98088114e-13, 6.61856529e-13, 9.99969840e-01, 3.01883047e-05,\n",
              "        3.73387363e-11, 1.38789978e-11],\n",
              "       [2.58702110e-03, 5.00191927e-01, 2.01560371e-02, 1.45227388e-01,\n",
              "        3.14215422e-01, 1.76221635e-02],\n",
              "       [4.41727554e-03, 1.86265330e-04, 1.81239993e-05, 9.31440695e-07,\n",
              "        9.62819815e-01, 3.25575992e-02],\n",
              "       [9.37043369e-01, 4.25418466e-03, 4.51627225e-02, 3.72675690e-03,\n",
              "        3.54544813e-04, 9.45841055e-03],\n",
              "       [7.68571873e-11, 9.99999881e-01, 1.55757855e-11, 6.57561505e-10,\n",
              "        9.77892114e-08, 5.10404830e-10],\n",
              "       [1.77662550e-12, 7.35363364e-01, 1.75611142e-12, 3.08582915e-09,\n",
              "        3.34024128e-11, 2.64636636e-01],\n",
              "       [9.99199927e-01, 1.04409437e-09, 5.34220599e-04, 1.26813276e-04,\n",
              "        3.60054209e-08, 1.39001524e-04],\n",
              "       [6.08871531e-09, 1.31842395e-08, 4.55384480e-07, 3.79299259e-09,\n",
              "        1.15409993e-09, 9.99999523e-01],\n",
              "       [3.44776230e-09, 1.64931593e-11, 1.00000000e+00, 3.01959062e-08,\n",
              "        2.51545220e-08, 2.05416772e-09],\n",
              "       [5.56486905e-01, 6.27853888e-06, 1.67031109e-01, 1.65719066e-05,\n",
              "        2.76183456e-01, 2.75635713e-04],\n",
              "       [2.83059431e-03, 5.31359278e-02, 5.65025866e-01, 2.09598555e-04,\n",
              "        3.78384203e-01, 4.13767615e-04],\n",
              "       [4.99951094e-03, 1.36300159e-05, 1.97073605e-04, 1.04914638e-04,\n",
              "        9.94424701e-01, 2.60143366e-04],\n",
              "       [3.83316129e-02, 5.90243842e-03, 8.69800989e-03, 1.63949735e-04,\n",
              "        9.41340625e-01, 5.56335039e-03],\n",
              "       [8.61614914e-20, 1.00000000e+00, 2.26817448e-19, 2.44579083e-20,\n",
              "        8.34548879e-19, 2.92229014e-17],\n",
              "       [2.94953315e-05, 9.42769184e-05, 3.70709077e-02, 9.49076831e-01,\n",
              "        1.36853298e-02, 4.31289263e-05],\n",
              "       [9.07584190e-01, 5.01661862e-06, 2.77347658e-02, 6.46020770e-02,\n",
              "        3.42477324e-05, 3.97037074e-05],\n",
              "       [2.33108413e-08, 2.31517956e-01, 4.42544518e-07, 2.86679478e-05,\n",
              "        8.18233616e-07, 7.68452168e-01],\n",
              "       [1.00000000e+00, 0.00000000e+00, 3.92623065e-22, 2.26312191e-31,\n",
              "        4.39834733e-28, 9.04982155e-27],\n",
              "       [1.10760948e-21, 1.00000000e+00, 6.53561994e-20, 2.22215842e-19,\n",
              "        1.96821148e-20, 2.15382363e-18],\n",
              "       [4.21239432e-11, 8.45225998e-07, 3.14264934e-11, 6.36755622e-12,\n",
              "        2.13195051e-07, 9.99998927e-01],\n",
              "       [9.94768262e-01, 4.06465733e-05, 3.16527183e-03, 4.13128305e-08,\n",
              "        2.01926520e-03, 6.51469372e-06],\n",
              "       [2.74468977e-02, 2.89107062e-04, 8.30088913e-01, 3.44695859e-02,\n",
              "        1.07607119e-01, 9.84627404e-05],\n",
              "       [5.14995598e-12, 3.66097534e-11, 9.15926723e-10, 1.00000000e+00,\n",
              "        5.01724855e-13, 3.87529592e-11],\n",
              "       [7.24435404e-06, 1.15190363e-02, 1.02788290e-05, 2.13144313e-06,\n",
              "        1.12640881e-03, 9.87334967e-01],\n",
              "       [3.13057740e-07, 2.91924948e-07, 6.40575745e-05, 6.45025295e-08,\n",
              "        9.99934196e-01, 1.10098426e-06],\n",
              "       [1.86487625e-13, 2.86968338e-10, 1.22918453e-10, 1.00000000e+00,\n",
              "        3.91515681e-10, 2.51567413e-11],\n",
              "       [4.18535819e-06, 4.51697633e-05, 2.22317278e-01, 7.77234852e-01,\n",
              "        2.55005900e-04, 1.43529367e-04],\n",
              "       [1.00000000e+00, 2.47944379e-13, 6.58422827e-09, 1.74229398e-11,\n",
              "        3.71544253e-08, 1.53112421e-08],\n",
              "       [8.42646477e-05, 8.81629363e-02, 6.05983566e-03, 8.73413920e-01,\n",
              "        2.66453288e-02, 5.63370623e-03],\n",
              "       [2.51609578e-07, 4.04594047e-03, 1.33434266e-01, 1.55921240e-04,\n",
              "        9.16746103e-06, 8.62354457e-01],\n",
              "       [3.12306243e-03, 3.89753687e-08, 9.95261252e-01, 1.55762851e-03,\n",
              "        4.46515587e-05, 1.33917492e-05],\n",
              "       [5.32302313e-10, 2.00031394e-07, 1.36222967e-04, 8.92994478e-09,\n",
              "        9.27271003e-07, 9.99862552e-01],\n",
              "       [1.26010800e-05, 1.18662952e-03, 4.43203084e-04, 2.47243035e-04,\n",
              "        9.97952461e-01, 1.57899965e-04],\n",
              "       [1.88019689e-09, 9.99999046e-01, 8.15324457e-12, 2.25133748e-11,\n",
              "        8.99531756e-07, 1.52199178e-08],\n",
              "       [1.65028347e-09, 9.99999881e-01, 1.24966881e-09, 8.07751022e-09,\n",
              "        4.57589842e-08, 2.66575526e-08],\n",
              "       [2.14973348e-03, 1.72629789e-01, 8.79124925e-03, 7.34845689e-03,\n",
              "        1.97696880e-01, 6.11383855e-01],\n",
              "       [5.69524826e-04, 3.80168385e-05, 1.95528901e-06, 2.19905498e-08,\n",
              "        4.25555289e-01, 5.73835254e-01],\n",
              "       [2.14944529e-09, 2.84790144e-06, 2.86959567e-09, 1.10007270e-04,\n",
              "        2.45994158e-07, 9.99886870e-01],\n",
              "       [5.14180783e-06, 1.31071687e-07, 9.96517062e-01, 3.18532228e-03,\n",
              "        2.76976643e-04, 1.53771834e-05],\n",
              "       [1.14855709e-06, 8.12803158e-09, 9.42651525e-07, 5.31378452e-09,\n",
              "        9.99995947e-01, 1.88492459e-06],\n",
              "       [4.75871116e-02, 5.42634807e-04, 7.74998009e-01, 3.99686117e-03,\n",
              "        4.12619375e-02, 1.31613433e-01],\n",
              "       [1.67467351e-06, 8.56184272e-07, 1.51110655e-07, 1.36478109e-08,\n",
              "        9.99997258e-01, 2.50517509e-08],\n",
              "       [6.33179624e-08, 1.94567201e-06, 1.16466720e-06, 2.05584016e-09,\n",
              "        9.34190080e-02, 9.06577826e-01],\n",
              "       [1.02107042e-04, 1.40984923e-07, 4.79052179e-02, 9.93822482e-07,\n",
              "        9.51944768e-01, 4.67243881e-05],\n",
              "       [2.28867377e-03, 1.38807522e-07, 2.32627077e-04, 9.97382462e-01,\n",
              "        7.56698137e-05, 2.03941254e-05],\n",
              "       [3.56255997e-11, 1.08982456e-09, 7.77959863e-10, 1.00000000e+00,\n",
              "        4.96152338e-12, 4.14143777e-08],\n",
              "       [1.36342834e-07, 4.34122205e-09, 9.99145746e-01, 1.09545674e-07,\n",
              "        8.52968602e-04, 1.06632399e-06],\n",
              "       [1.74498244e-04, 2.09131162e-03, 1.19977735e-03, 9.22582913e-05,\n",
              "        9.93248940e-01, 3.19326087e-03],\n",
              "       [9.99957919e-01, 1.98879913e-10, 7.84525582e-07, 1.00253965e-08,\n",
              "        5.46535875e-06, 3.57821264e-05],\n",
              "       [4.73322361e-05, 3.29695205e-04, 4.09488683e-04, 9.98197019e-01,\n",
              "        6.78663782e-04, 3.37919540e-04],\n",
              "       [2.85939621e-13, 1.78416755e-07, 3.27829040e-12, 9.99999881e-01,\n",
              "        2.60678930e-13, 1.91734784e-09],\n",
              "       [3.58883554e-08, 2.35430631e-09, 2.71444804e-07, 9.99992251e-01,\n",
              "        1.55494853e-11, 7.51485413e-06],\n",
              "       [6.20481209e-04, 7.48441335e-06, 7.23699629e-01, 8.97982318e-06,\n",
              "        2.45086595e-01, 3.05768866e-02],\n",
              "       [3.77263518e-06, 3.22174374e-03, 4.56681801e-06, 6.51025402e-06,\n",
              "        2.63984257e-04, 9.96499419e-01],\n",
              "       [8.74553346e-11, 3.47079430e-03, 1.33982173e-10, 6.27856100e-12,\n",
              "        5.34229239e-09, 9.96529162e-01],\n",
              "       [9.99817312e-01, 7.98249078e-10, 1.65572244e-04, 3.15519827e-07,\n",
              "        1.04145684e-05, 6.43599969e-06],\n",
              "       [9.84898269e-01, 2.57544593e-06, 1.48660596e-02, 1.48313857e-05,\n",
              "        2.17326684e-04, 9.55114047e-07],\n",
              "       [2.49791108e-11, 7.60337016e-10, 9.99999881e-01, 1.31093429e-08,\n",
              "        9.54264578e-09, 5.37294973e-08],\n",
              "       [5.43494032e-08, 1.09575371e-08, 9.99920487e-01, 7.74812520e-07,\n",
              "        7.79933907e-05, 5.68240296e-07],\n",
              "       [1.13954570e-03, 3.72199975e-05, 2.57604523e-03, 1.30022172e-05,\n",
              "        6.06064172e-03, 9.90173578e-01],\n",
              "       [7.88686739e-05, 6.46685425e-04, 4.12815213e-02, 2.37292540e-03,\n",
              "        9.55407500e-01, 2.12494255e-04],\n",
              "       [6.53279130e-05, 1.72221207e-03, 1.50189226e-04, 6.21726289e-02,\n",
              "        9.30378735e-01, 5.51084988e-03],\n",
              "       [1.02904309e-07, 4.34264985e-11, 9.99999762e-01, 4.97997270e-08,\n",
              "        1.57084898e-07, 6.22737584e-10],\n",
              "       [4.07405059e-05, 6.72266543e-01, 4.63863653e-05, 1.18841349e-07,\n",
              "        3.26337516e-01, 1.30871579e-03],\n",
              "       [1.64319957e-07, 9.99998212e-01, 1.44207291e-07, 7.40182031e-08,\n",
              "        1.33721528e-06, 5.93340097e-08],\n",
              "       [4.34695669e-02, 9.90875810e-03, 2.18696654e-01, 9.04640008e-04,\n",
              "        6.03615880e-01, 1.23404495e-01],\n",
              "       [9.03867900e-01, 8.75309070e-06, 8.17796215e-02, 8.24594190e-06,\n",
              "        1.42969834e-02, 3.85954481e-05],\n",
              "       [8.86798773e-07, 1.84487736e-09, 5.58918941e-07, 9.99998331e-01,\n",
              "        9.53332133e-08, 1.77133245e-07],\n",
              "       [1.56011670e-09, 8.86804866e-12, 9.99998212e-01, 1.07672127e-09,\n",
              "        1.69573639e-06, 6.75977461e-08],\n",
              "       [1.28381813e-04, 6.99253997e-06, 1.35388097e-03, 2.94418078e-06,\n",
              "        9.88800049e-01, 9.70770419e-03],\n",
              "       [3.18501440e-11, 9.99999881e-01, 2.85104509e-11, 3.68471087e-10,\n",
              "        1.22497340e-07, 2.44769288e-10],\n",
              "       [9.99999642e-01, 1.16628051e-15, 1.67492104e-07, 8.48957081e-13,\n",
              "        3.26495164e-10, 2.80906050e-07],\n",
              "       [8.69240786e-04, 4.19761147e-03, 5.80936193e-01, 3.07194632e-03,\n",
              "        1.94304204e-03, 4.08982038e-01],\n",
              "       [1.27859912e-05, 4.83695231e-03, 4.15325537e-03, 7.91587634e-04,\n",
              "        6.95228949e-03, 9.83253181e-01],\n",
              "       [1.14450037e-01, 7.19571233e-01, 2.76138950e-02, 3.03788926e-03,\n",
              "        1.27567634e-01, 7.75935268e-03],\n",
              "       [3.02141067e-04, 1.67685584e-03, 1.58751234e-02, 2.59602576e-01,\n",
              "        7.32694054e-03, 7.15216339e-01],\n",
              "       [4.02154254e-10, 9.99998450e-01, 8.81727635e-10, 4.78171387e-07,\n",
              "        4.06976426e-07, 6.92067772e-07],\n",
              "       [3.33385877e-02, 1.80679272e-05, 1.68604776e-03, 3.00229999e-06,\n",
              "        3.79749268e-01, 5.85205019e-01],\n",
              "       [2.07819100e-02, 8.48589689e-02, 6.37768149e-01, 2.30066216e-05,\n",
              "        2.56560683e-01, 7.20732169e-06],\n",
              "       [2.90729862e-04, 1.65336521e-03, 3.02581786e-04, 4.15258994e-03,\n",
              "        4.44199704e-03, 9.89158690e-01],\n",
              "       [2.10928107e-07, 1.27097756e-01, 1.57562736e-05, 3.82457627e-03,\n",
              "        2.03801775e-07, 8.69061530e-01],\n",
              "       [1.94634299e-03, 1.63829129e-03, 2.88474649e-01, 3.25792618e-02,\n",
              "        1.03029020e-01, 5.72332442e-01],\n",
              "       [1.71645559e-04, 4.80665214e-04, 8.86675596e-01, 1.78655464e-04,\n",
              "        1.11956149e-01, 5.37366257e-04],\n",
              "       [1.29880626e-02, 1.78165047e-03, 3.07019919e-01, 6.74019381e-02,\n",
              "        3.60971354e-02, 5.74711263e-01],\n",
              "       [2.00821478e-06, 6.87375135e-08, 9.89001036e-01, 7.02166574e-07,\n",
              "        1.09914253e-02, 4.65605535e-06],\n",
              "       [4.80131121e-07, 7.19551370e-02, 5.40112296e-07, 5.70266288e-08,\n",
              "        6.16694684e-04, 9.27427113e-01],\n",
              "       [2.05196284e-05, 2.25290842e-06, 1.65690196e-07, 2.55445106e-04,\n",
              "        2.78889956e-07, 9.99721348e-01],\n",
              "       [1.65595871e-03, 1.15438415e-04, 2.27272816e-04, 4.61763761e-04,\n",
              "        6.31496847e-01, 3.66042763e-01],\n",
              "       [9.99986291e-01, 8.47553906e-14, 1.35305781e-05, 1.02807027e-10,\n",
              "        9.21986612e-08, 2.49890331e-10],\n",
              "       [5.95739635e-09, 3.17117883e-05, 9.19087029e-08, 1.73814497e-05,\n",
              "        1.10953606e-05, 9.99939680e-01],\n",
              "       [5.39153689e-06, 1.69160916e-08, 2.96600891e-04, 8.32371313e-07,\n",
              "        9.99696851e-01, 3.81940964e-07],\n",
              "       [7.20776185e-08, 6.01556638e-10, 9.99944806e-01, 1.25648072e-07,\n",
              "        5.49940996e-05, 1.22577477e-08],\n",
              "       [5.43567585e-05, 9.43629563e-01, 1.00613543e-04, 5.29990625e-03,\n",
              "        5.07635288e-02, 1.52082081e-04],\n",
              "       [2.68103659e-01, 1.93574419e-03, 1.65943280e-02, 1.26722483e-02,\n",
              "        9.68954563e-02, 6.03798568e-01],\n",
              "       [2.17373890e-04, 7.97935486e-01, 3.19589549e-06, 2.44567877e-06,\n",
              "        2.01840997e-01, 5.59332364e-07],\n",
              "       [3.54313033e-06, 3.75950080e-08, 1.32885707e-05, 1.50878847e-08,\n",
              "        9.99964714e-01, 1.84100900e-05],\n",
              "       [8.73580791e-11, 8.90349746e-01, 7.31909511e-09, 2.18106200e-10,\n",
              "        1.75868142e-09, 1.09650321e-01],\n",
              "       [1.96589692e-03, 3.91539388e-08, 1.33263087e-03, 1.04218056e-08,\n",
              "        9.96557891e-01, 1.43496654e-04],\n",
              "       [2.71971189e-16, 7.86767215e-17, 8.76190955e-15, 2.86835995e-17,\n",
              "        8.30842773e-17, 1.00000000e+00],\n",
              "       [5.98487198e-01, 2.40121619e-03, 3.70505780e-01, 1.54512990e-02,\n",
              "        9.58702900e-03, 3.56746605e-03],\n",
              "       [9.16979825e-09, 1.44566220e-10, 9.99987006e-01, 2.07672688e-08,\n",
              "        1.29051923e-05, 6.63747031e-08],\n",
              "       [1.13934348e-03, 8.07040744e-03, 1.80963450e-03, 6.13660610e-04,\n",
              "        1.85936280e-02, 9.69773293e-01],\n",
              "       [9.63468909e-01, 4.91996761e-04, 1.78260803e-02, 6.91617781e-04,\n",
              "        1.73425227e-02, 1.78740680e-04],\n",
              "       [9.22678590e-01, 2.59132698e-11, 6.04127650e-04, 1.05646614e-09,\n",
              "        7.67172724e-02, 1.10655316e-08],\n",
              "       [4.55965399e-09, 4.75013593e-08, 3.67573492e-08, 2.28747229e-11,\n",
              "        9.94809628e-01, 5.19026630e-03],\n",
              "       [9.98568892e-01, 9.64151203e-10, 1.42707140e-03, 7.61541372e-08,\n",
              "        3.79280596e-06, 8.03691620e-08],\n",
              "       [6.55221108e-15, 3.18899594e-11, 6.30781709e-14, 1.47420366e-07,\n",
              "        1.04971590e-14, 9.99999881e-01],\n",
              "       [2.08830188e-05, 2.38098855e-05, 9.24585104e-01, 7.31281936e-02,\n",
              "        1.43382291e-03, 8.08297249e-04],\n",
              "       [8.11998834e-05, 6.10864276e-07, 7.49131359e-05, 5.47711977e-07,\n",
              "        9.99842167e-01, 5.94218307e-07],\n",
              "       [9.95124996e-01, 4.12153121e-08, 6.68308348e-06, 1.62270558e-10,\n",
              "        4.86838305e-03, 1.38838283e-08],\n",
              "       [1.29579201e-08, 9.99864101e-01, 8.34569036e-08, 9.31604589e-08,\n",
              "        5.58405418e-07, 1.35181515e-04],\n",
              "       [2.74823247e-10, 9.99726832e-01, 7.34921400e-07, 2.90239655e-06,\n",
              "        1.63544889e-09, 2.69418058e-04],\n",
              "       [4.85078044e-06, 1.07202968e-05, 2.02558297e-07, 1.11305640e-08,\n",
              "        9.95745242e-01, 4.23891237e-03],\n",
              "       [9.04245753e-05, 1.97605277e-06, 2.96810895e-01, 7.02389598e-01,\n",
              "        6.14111104e-06, 7.00870354e-04],\n",
              "       [5.74032731e-11, 8.85597289e-01, 1.78981108e-09, 1.77369327e-06,\n",
              "        6.13975329e-11, 1.14400931e-01],\n",
              "       [2.29768865e-02, 4.23645972e-08, 9.76142883e-01, 2.10308735e-05,\n",
              "        8.57085572e-04, 2.03204013e-06],\n",
              "       [1.52851611e-01, 7.11531145e-03, 3.32711488e-02, 8.03163528e-01,\n",
              "        1.55621965e-03, 2.04217969e-03],\n",
              "       [5.34017105e-04, 1.55974263e-02, 1.04030833e-01, 5.97944446e-02,\n",
              "        2.55757391e-01, 5.64285874e-01],\n",
              "       [3.71542457e-03, 2.48793208e-06, 9.91931021e-01, 1.63403316e-03,\n",
              "        2.25347793e-03, 4.63488308e-04],\n",
              "       [3.55214804e-01, 1.89523518e-04, 1.88365445e-01, 2.58487642e-01,\n",
              "        8.68159719e-03, 1.89061001e-01],\n",
              "       [4.60305710e-05, 1.11823948e-03, 1.29648000e-01, 8.69078040e-01,\n",
              "        1.26988043e-05, 9.70376568e-05],\n",
              "       [9.33242321e-01, 1.04650162e-05, 3.21117295e-05, 9.41551025e-06,\n",
              "        6.62368611e-02, 4.68898186e-04],\n",
              "       [6.52692906e-05, 1.11681886e-03, 3.35685955e-03, 1.46150423e-05,\n",
              "        9.36233191e-05, 9.95352864e-01],\n",
              "       [3.49601805e-07, 2.64624134e-07, 9.91602361e-01, 8.39494533e-07,\n",
              "        1.24912651e-06, 8.39491095e-03],\n",
              "       [1.91005456e-05, 1.85247779e-06, 9.44178402e-01, 5.57920709e-02,\n",
              "        1.64733262e-06, 6.91309742e-06],\n",
              "       [3.42604965e-02, 8.79706621e-01, 7.63953605e-04, 3.04635178e-05,\n",
              "        7.93517306e-02, 5.88675728e-03],\n",
              "       [9.99408722e-01, 6.24774399e-10, 5.85769187e-04, 1.13324250e-09,\n",
              "        5.52591837e-06, 1.12278888e-08],\n",
              "       [3.65161040e-10, 2.73443845e-07, 1.07295171e-11, 4.99971071e-12,\n",
              "        8.28799029e-10, 9.99999762e-01],\n",
              "       [3.99663368e-05, 1.27784433e-05, 9.95846689e-01, 2.02067924e-04,\n",
              "        3.89830954e-03, 2.24407927e-07],\n",
              "       [9.90204215e-01, 8.49136539e-10, 9.76249389e-03, 1.57753050e-06,\n",
              "        1.67989165e-05, 1.49606849e-05],\n",
              "       [5.50248399e-02, 1.19749326e-04, 2.71734316e-04, 2.72827356e-06,\n",
              "        1.62457153e-01, 7.82123744e-01],\n",
              "       [2.51499500e-07, 4.20979918e-09, 9.99990225e-01, 8.91873970e-06,\n",
              "        1.42053040e-07, 4.76156060e-07],\n",
              "       [3.35742152e-05, 4.59151082e-02, 8.55445683e-01, 1.52985012e-04,\n",
              "        5.32680843e-03, 9.31258798e-02],\n",
              "       [9.97124612e-01, 1.11658746e-05, 2.38063838e-03, 6.28067646e-05,\n",
              "        2.73201062e-04, 1.47596540e-04],\n",
              "       [3.88256013e-02, 1.94738247e-03, 3.91805824e-03, 9.46321487e-01,\n",
              "        2.77098297e-04, 8.71044211e-03],\n",
              "       [5.62744089e-20, 1.00000000e+00, 3.56994383e-20, 2.00763500e-21,\n",
              "        2.07308147e-19, 1.39363615e-16],\n",
              "       [7.36013135e-08, 1.10840457e-08, 9.99944210e-01, 9.84309878e-09,\n",
              "        1.24776489e-06, 5.43935021e-05]], dtype=float32)"
            ]
          },
          "metadata": {
            "tags": []
          },
          "execution_count": 40
        }
      ]
    },
    {
      "cell_type": "code",
      "metadata": {
        "id": "ZYgkQ2RmbMMv",
        "colab_type": "code",
        "colab": {}
      },
      "source": [
        "import numpy as np\n",
        "y_pred=np.argmax(y_pred, axis=1)"
      ],
      "execution_count": 42,
      "outputs": []
    },
    {
      "cell_type": "code",
      "metadata": {
        "id": "oQKiNkSib21-",
        "colab_type": "code",
        "colab": {
          "base_uri": "https://localhost:8080/",
          "height": 136
        },
        "outputId": "5c5d2e41-00de-4698-e650-7b50c9c8185e"
      },
      "source": [
        "y_pred"
      ],
      "execution_count": 43,
      "outputs": [
        {
          "output_type": "execute_result",
          "data": {
            "text/plain": [
              "array([4, 5, 2, 2, 5, 4, 3, 2, 4, 3, 1, 1, 5, 2, 1, 4, 0, 1, 1, 0, 5, 2,\n",
              "       0, 2, 4, 4, 1, 3, 0, 5, 0, 1, 5, 0, 2, 3, 5, 4, 3, 3, 0, 3, 5, 2,\n",
              "       5, 4, 1, 1, 5, 5, 5, 2, 4, 2, 4, 5, 4, 3, 3, 2, 4, 0, 3, 3, 3, 2,\n",
              "       5, 5, 0, 0, 2, 2, 5, 4, 4, 2, 1, 1, 4, 0, 3, 2, 4, 1, 0, 2, 5, 1,\n",
              "       5, 1, 5, 2, 5, 5, 5, 2, 5, 2, 5, 5, 4, 0, 5, 4, 2, 1, 5, 1, 4, 1,\n",
              "       4, 5, 0, 2, 5, 0, 0, 4, 0, 5, 2, 4, 0, 1, 1, 4, 3, 1, 2, 3, 5, 2,\n",
              "       0, 3, 0, 5, 2, 2, 1, 0, 5, 2, 0, 5, 2, 2, 0, 3, 1, 2])"
            ]
          },
          "metadata": {
            "tags": []
          },
          "execution_count": 43
        }
      ]
    },
    {
      "cell_type": "code",
      "metadata": {
        "id": "FrgVyo9vb4_c",
        "colab_type": "code",
        "colab": {}
      },
      "source": [
        "from tensorflow.keras.models import load_model\n",
        "from tensorflow.keras.preprocessing import image"
      ],
      "execution_count": 44,
      "outputs": []
    },
    {
      "cell_type": "code",
      "metadata": {
        "id": "pVzhvdYtcOMn",
        "colab_type": "code",
        "colab": {}
      },
      "source": [
        "model=load_model('model.vgg16.h5')"
      ],
      "execution_count": 45,
      "outputs": []
    },
    {
      "cell_type": "code",
      "metadata": {
        "id": "e9eGiXcpcXTr",
        "colab_type": "code",
        "colab": {}
      },
      "source": [
        "img=image.load_img('/content/images (25).jpg',target_size=(250,250))"
      ],
      "execution_count": 48,
      "outputs": []
    },
    {
      "cell_type": "code",
      "metadata": {
        "id": "wB1HFYfrcZ4p",
        "colab_type": "code",
        "colab": {
          "base_uri": "https://localhost:8080/",
          "height": 54
        },
        "outputId": "98a8b996-876e-44bd-f419-883ee1e73b75"
      },
      "source": [
        "image"
      ],
      "execution_count": 50,
      "outputs": [
        {
          "output_type": "execute_result",
          "data": {
            "text/plain": [
              "<module 'tensorflow.keras.preprocessing.image' from '/usr/local/lib/python3.6/dist-packages/tensorflow/keras/preprocessing/image/__init__.py'>"
            ]
          },
          "metadata": {
            "tags": []
          },
          "execution_count": 50
        }
      ]
    },
    {
      "cell_type": "code",
      "metadata": {
        "id": "JRHNlezagM7s",
        "colab_type": "code",
        "colab": {
          "base_uri": "https://localhost:8080/",
          "height": 850
        },
        "outputId": "080b4480-c9a5-42db-b3c1-7c9d84d868c7"
      },
      "source": [
        "# converting imageinto image array\n",
        "\n",
        "x=image.img_to_array(img)\n",
        "x"
      ],
      "execution_count": 63,
      "outputs": [
        {
          "output_type": "execute_result",
          "data": {
            "text/plain": [
              "array([[[ 56.,  37.,  23.],\n",
              "        [ 56.,  37.,  23.],\n",
              "        [ 57.,  38.,  24.],\n",
              "        ...,\n",
              "        [ 98.,  63.,  44.],\n",
              "        [ 99.,  61.,  38.],\n",
              "        [101.,  61.,  36.]],\n",
              "\n",
              "       [[ 56.,  37.,  23.],\n",
              "        [ 56.,  37.,  23.],\n",
              "        [ 57.,  38.,  24.],\n",
              "        ...,\n",
              "        [ 98.,  63.,  44.],\n",
              "        [ 99.,  61.,  38.],\n",
              "        [101.,  61.,  36.]],\n",
              "\n",
              "       [[ 57.,  38.,  24.],\n",
              "        [ 57.,  38.,  24.],\n",
              "        [ 57.,  38.,  24.],\n",
              "        ...,\n",
              "        [ 98.,  63.,  44.],\n",
              "        [100.,  62.,  39.],\n",
              "        [102.,  62.,  37.]],\n",
              "\n",
              "       ...,\n",
              "\n",
              "       [[ 47.,  28.,  13.],\n",
              "        [ 47.,  28.,  13.],\n",
              "        [ 48.,  29.,  14.],\n",
              "        ...,\n",
              "        [ 72.,  41.,  20.],\n",
              "        [ 71.,  40.,  19.],\n",
              "        [ 71.,  40.,  19.]],\n",
              "\n",
              "       [[ 47.,  28.,  13.],\n",
              "        [ 47.,  28.,  13.],\n",
              "        [ 47.,  28.,  13.],\n",
              "        ...,\n",
              "        [ 71.,  40.,  19.],\n",
              "        [ 70.,  39.,  18.],\n",
              "        [ 70.,  39.,  18.]],\n",
              "\n",
              "       [[ 47.,  28.,  13.],\n",
              "        [ 47.,  28.,  13.],\n",
              "        [ 47.,  28.,  13.],\n",
              "        ...,\n",
              "        [ 71.,  40.,  19.],\n",
              "        [ 70.,  39.,  18.],\n",
              "        [ 70.,  39.,  18.]]], dtype=float32)"
            ]
          },
          "metadata": {
            "tags": []
          },
          "execution_count": 63
        }
      ]
    },
    {
      "cell_type": "code",
      "metadata": {
        "id": "JuT5qPcogefK",
        "colab_type": "code",
        "colab": {
          "base_uri": "https://localhost:8080/",
          "height": 34
        },
        "outputId": "74f3346d-1ba4-457f-ed00-489db22903b0"
      },
      "source": [
        "x.shape"
      ],
      "execution_count": 64,
      "outputs": [
        {
          "output_type": "execute_result",
          "data": {
            "text/plain": [
              "(250, 250, 3)"
            ]
          },
          "metadata": {
            "tags": []
          },
          "execution_count": 64
        }
      ]
    },
    {
      "cell_type": "code",
      "metadata": {
        "id": "bX8nA2P8guXF",
        "colab_type": "code",
        "colab": {}
      },
      "source": [
        "# rescaleour test data\n",
        "\n",
        "x=x/255"
      ],
      "execution_count": 55,
      "outputs": []
    },
    {
      "cell_type": "code",
      "metadata": {
        "id": "euinHH4xg36Z",
        "colab_type": "code",
        "colab": {
          "base_uri": "https://localhost:8080/",
          "height": 34
        },
        "outputId": "55e0983c-6479-4b5f-9aa2-f8d757dc4cb7"
      },
      "source": [
        "x.shape"
      ],
      "execution_count": 62,
      "outputs": [
        {
          "output_type": "execute_result",
          "data": {
            "text/plain": [
              "(1, 1, 250, 250, 3)"
            ]
          },
          "metadata": {
            "tags": []
          },
          "execution_count": 62
        }
      ]
    },
    {
      "cell_type": "code",
      "metadata": {
        "id": "pxg3BKWZg6_Q",
        "colab_type": "code",
        "colab": {
          "base_uri": "https://localhost:8080/",
          "height": 34
        },
        "outputId": "19abbcaa-4561-4fbe-cb0d-91154b939712"
      },
      "source": [
        "x=np.expand_dims(x,axis=0)\n",
        "# here  i am  using vgg16 preprocessing\n",
        "\n",
        "img_data=preprocess_input(x)\n",
        "img_data.shape"
      ],
      "execution_count": 65,
      "outputs": [
        {
          "output_type": "execute_result",
          "data": {
            "text/plain": [
              "(1, 250, 250, 3)"
            ]
          },
          "metadata": {
            "tags": []
          },
          "execution_count": 65
        }
      ]
    },
    {
      "cell_type": "code",
      "metadata": {
        "id": "wcWF5g7liTMh",
        "colab_type": "code",
        "colab": {}
      },
      "source": [
        "mobile=np.argmax(model.predict(img_data),axis=1)"
      ],
      "execution_count": 66,
      "outputs": []
    },
    {
      "cell_type": "code",
      "metadata": {
        "id": "QneDe899j7kc",
        "colab_type": "code",
        "colab": {
          "base_uri": "https://localhost:8080/",
          "height": 119
        },
        "outputId": "8ec25275-cd55-4cf3-f5ff-3796b7345031"
      },
      "source": [
        "glob('/content/test/*')"
      ],
      "execution_count": 69,
      "outputs": [
        {
          "output_type": "execute_result",
          "data": {
            "text/plain": [
              "['/content/test/xiomi',\n",
              " '/content/test/vivo',\n",
              " '/content/test/one plus',\n",
              " '/content/test/samsung',\n",
              " '/content/test/iphone',\n",
              " '/content/test/oppo']"
            ]
          },
          "metadata": {
            "tags": []
          },
          "execution_count": 69
        }
      ]
    },
    {
      "cell_type": "code",
      "metadata": {
        "id": "nO_KCoZIjTKD",
        "colab_type": "code",
        "colab": {
          "base_uri": "https://localhost:8080/",
          "height": 34
        },
        "outputId": "048ed3d6-24cf-47ef-8c54-ef598d251111"
      },
      "source": [
        "mobile"
      ],
      "execution_count": 67,
      "outputs": [
        {
          "output_type": "execute_result",
          "data": {
            "text/plain": [
              "array([2])"
            ]
          },
          "metadata": {
            "tags": []
          },
          "execution_count": 67
        }
      ]
    },
    {
      "cell_type": "code",
      "metadata": {
        "id": "mer-eNV1j25B",
        "colab_type": "code",
        "colab": {}
      },
      "source": [
        ""
      ],
      "execution_count": null,
      "outputs": []
    }
  ]
}